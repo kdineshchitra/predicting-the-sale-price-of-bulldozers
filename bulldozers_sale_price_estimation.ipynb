{
  "nbformat": 4,
  "nbformat_minor": 0,
  "metadata": {
    "colab": {
      "name": "bulldozers-sale-price-estimation.ipynb",
      "provenance": [],
      "collapsed_sections": []
    },
    "kernelspec": {
      "display_name": "Python 3",
      "name": "python3"
    },
    "language_info": {
      "name": "python"
    }
  },
  "cells": [
    {
      "cell_type": "markdown",
      "metadata": {
        "id": "p6L9nQZxcYbB"
      },
      "source": [
        "# **Bulldozer sales price estimation using Machine Learning**\n",
        "This notebook explores some of the basic datascience and machine learning concepts by trying to solve the problem of Bulldozers sales price prediction.  \n",
        "Since the desired outcome here is an estimate of future sales price(predicting a number) this is a **Regression** problem.  \n",
        "\n",
        "**Problem statement:**  \n",
        "> Can the future sales price of a bulldozer be predicted the machine learning techniques and models?  \n",
        "\n",
        "**Data to solve the problem:**  \n",
        "The data is taken from the *Blue Book for Bulldozers Kaggle Competition*.[(link here)](https://www.kaggle.com/c/bluebook-for-bulldozers/data)  \n",
        "The data for this competition is split into three parts:\n",
        "\n",
        "1. Train.csv is the training set, which contains data through the end of 2011.\n",
        "2. Valid.csv is the validation set, which contains data from January 1, 2012 - April 30, 2012.\n",
        "3. Test.csv is the test set. It contains data from May 1, 2012 - November 2012.\n",
        "\n",
        "The key fields are in train.csv are:\n",
        "\n",
        "- SalesID: the uniue identifier of the sale\n",
        "- MachineID: the unique identifier of a machine.  A machine can be sold multiple times\n",
        "- saleprice: what the machine sold for at auction (only provided in train.csv)\n",
        "- saledate: the date of the sale  \n",
        "\n",
        "Since this data contains data points indexed in time order(in `saledate` feature), this dataset is a **Timeseries data.**\n",
        "\n",
        "Other than this there is a [data dictionary](https://drive.google.com/file/d/1qhPAQSFWw3rgpiMy88tMJInP0VGmoSj5/view?usp=sharing) provided with this dataset to understand more about the features of the data.  \n",
        "\n",
        "---\n",
        "\n",
        "## 0. Importing all necessary tools"
      ]
    },
    {
      "cell_type": "code",
      "metadata": {
        "id": "Ze8aRdYs9P1v"
      },
      "source": [
        "# Data analysis and plotting\n",
        "import numpy as np\n",
        "import pandas as pd\n",
        "import matplotlib.pyplot as plt\n",
        "import seaborn as sns\n",
        "\n",
        "# Regression models from Scikit-learn library\n",
        "from sklearn.ensemble import RandomForestRegressor\n",
        "\n",
        "# Model evaluation and experimentation\n",
        "from sklearn.metrics import mean_absolute_error, mean_squared_error, mean_squared_log_error, r2_score\n",
        "from sklearn.model_selection import  RandomizedSearchCV, GridSearchCV, cross_val_score\n",
        "\n",
        "# saving the model\n",
        "import joblib"
      ],
      "execution_count": 2,
      "outputs": []
    },
    {
      "cell_type": "markdown",
      "metadata": {
        "id": "1bua-aBEostr"
      },
      "source": [
        "## 1. Data loading and EDA\n",
        "**Note:**  \n",
        "> Data files are downloaded from [kaggle competition page](https://www.kaggle.com/c/bluebook-for-bulldozers/data) and uploaded to google drive in order to import and use it here in this notebook.  \n",
        "Anyone can view the data folder used here, from this [link.](https://drive.google.com/drive/folders/1GzNp18zvT9JBbEsyjYSQnk_6mUecO6Aq?usp=sharing)  \n",
        "\n",
        "Loading the dataset from the data folder and saving it as Pandas DataFrame. Then perform some exploratory data analysis(EDA) on the saved DataFrame."
      ]
    },
    {
      "cell_type": "code",
      "metadata": {
        "colab": {
          "base_uri": "https://localhost:8080/"
        },
        "id": "-IQPXjx3oq_A",
        "outputId": "a4230012-7b14-449b-82b6-494ed1864893"
      },
      "source": [
        "# importing data from google drive folder\n",
        "## since this is a timeseries data, the time feature need to be parsed into datetim object\n",
        "data = pd.read_csv(\"/content/drive/MyDrive/Colab Notebooks/bulldozer-price-prediction-data/TrainAndValid.csv\",\n",
        "                   parse_dates=[\"saledate\"])\n",
        "# back up the origianl data inorder to reuse it when data manipulation goes wrong\n",
        "original_data = data.copy()"
      ],
      "execution_count": 3,
      "outputs": [
        {
          "output_type": "stream",
          "text": [
            "/usr/local/lib/python3.7/dist-packages/IPython/core/interactiveshell.py:2718: DtypeWarning: Columns (13,39,40,41) have mixed types.Specify dtype option on import or set low_memory=False.\n",
            "  interactivity=interactivity, compiler=compiler, result=result)\n"
          ],
          "name": "stderr"
        }
      ]
    },
    {
      "cell_type": "code",
      "metadata": {
        "colab": {
          "base_uri": "https://localhost:8080/",
          "height": 360
        },
        "id": "xAYCQ8q-Qvth",
        "outputId": "e8845b1a-2417-42ce-dfdd-227ae46a1d72"
      },
      "source": [
        "# little preview of the data\n",
        "data.head()"
      ],
      "execution_count": 4,
      "outputs": [
        {
          "output_type": "execute_result",
          "data": {
            "text/html": [
              "<div>\n",
              "<style scoped>\n",
              "    .dataframe tbody tr th:only-of-type {\n",
              "        vertical-align: middle;\n",
              "    }\n",
              "\n",
              "    .dataframe tbody tr th {\n",
              "        vertical-align: top;\n",
              "    }\n",
              "\n",
              "    .dataframe thead th {\n",
              "        text-align: right;\n",
              "    }\n",
              "</style>\n",
              "<table border=\"1\" class=\"dataframe\">\n",
              "  <thead>\n",
              "    <tr style=\"text-align: right;\">\n",
              "      <th></th>\n",
              "      <th>SalesID</th>\n",
              "      <th>SalePrice</th>\n",
              "      <th>MachineID</th>\n",
              "      <th>ModelID</th>\n",
              "      <th>datasource</th>\n",
              "      <th>auctioneerID</th>\n",
              "      <th>YearMade</th>\n",
              "      <th>MachineHoursCurrentMeter</th>\n",
              "      <th>UsageBand</th>\n",
              "      <th>saledate</th>\n",
              "      <th>fiModelDesc</th>\n",
              "      <th>fiBaseModel</th>\n",
              "      <th>fiSecondaryDesc</th>\n",
              "      <th>fiModelSeries</th>\n",
              "      <th>fiModelDescriptor</th>\n",
              "      <th>ProductSize</th>\n",
              "      <th>fiProductClassDesc</th>\n",
              "      <th>state</th>\n",
              "      <th>ProductGroup</th>\n",
              "      <th>ProductGroupDesc</th>\n",
              "      <th>Drive_System</th>\n",
              "      <th>Enclosure</th>\n",
              "      <th>Forks</th>\n",
              "      <th>Pad_Type</th>\n",
              "      <th>Ride_Control</th>\n",
              "      <th>Stick</th>\n",
              "      <th>Transmission</th>\n",
              "      <th>Turbocharged</th>\n",
              "      <th>Blade_Extension</th>\n",
              "      <th>Blade_Width</th>\n",
              "      <th>Enclosure_Type</th>\n",
              "      <th>Engine_Horsepower</th>\n",
              "      <th>Hydraulics</th>\n",
              "      <th>Pushblock</th>\n",
              "      <th>Ripper</th>\n",
              "      <th>Scarifier</th>\n",
              "      <th>Tip_Control</th>\n",
              "      <th>Tire_Size</th>\n",
              "      <th>Coupler</th>\n",
              "      <th>Coupler_System</th>\n",
              "      <th>Grouser_Tracks</th>\n",
              "      <th>Hydraulics_Flow</th>\n",
              "      <th>Track_Type</th>\n",
              "      <th>Undercarriage_Pad_Width</th>\n",
              "      <th>Stick_Length</th>\n",
              "      <th>Thumb</th>\n",
              "      <th>Pattern_Changer</th>\n",
              "      <th>Grouser_Type</th>\n",
              "      <th>Backhoe_Mounting</th>\n",
              "      <th>Blade_Type</th>\n",
              "      <th>Travel_Controls</th>\n",
              "      <th>Differential_Type</th>\n",
              "      <th>Steering_Controls</th>\n",
              "    </tr>\n",
              "  </thead>\n",
              "  <tbody>\n",
              "    <tr>\n",
              "      <th>0</th>\n",
              "      <td>1139246</td>\n",
              "      <td>66000.0</td>\n",
              "      <td>999089</td>\n",
              "      <td>3157</td>\n",
              "      <td>121</td>\n",
              "      <td>3.0</td>\n",
              "      <td>2004</td>\n",
              "      <td>68.0</td>\n",
              "      <td>Low</td>\n",
              "      <td>2006-11-16</td>\n",
              "      <td>521D</td>\n",
              "      <td>521</td>\n",
              "      <td>D</td>\n",
              "      <td>NaN</td>\n",
              "      <td>NaN</td>\n",
              "      <td>NaN</td>\n",
              "      <td>Wheel Loader - 110.0 to 120.0 Horsepower</td>\n",
              "      <td>Alabama</td>\n",
              "      <td>WL</td>\n",
              "      <td>Wheel Loader</td>\n",
              "      <td>NaN</td>\n",
              "      <td>EROPS w AC</td>\n",
              "      <td>None or Unspecified</td>\n",
              "      <td>NaN</td>\n",
              "      <td>None or Unspecified</td>\n",
              "      <td>NaN</td>\n",
              "      <td>NaN</td>\n",
              "      <td>NaN</td>\n",
              "      <td>NaN</td>\n",
              "      <td>NaN</td>\n",
              "      <td>NaN</td>\n",
              "      <td>NaN</td>\n",
              "      <td>2 Valve</td>\n",
              "      <td>NaN</td>\n",
              "      <td>NaN</td>\n",
              "      <td>NaN</td>\n",
              "      <td>NaN</td>\n",
              "      <td>None or Unspecified</td>\n",
              "      <td>None or Unspecified</td>\n",
              "      <td>NaN</td>\n",
              "      <td>NaN</td>\n",
              "      <td>NaN</td>\n",
              "      <td>NaN</td>\n",
              "      <td>NaN</td>\n",
              "      <td>NaN</td>\n",
              "      <td>NaN</td>\n",
              "      <td>NaN</td>\n",
              "      <td>NaN</td>\n",
              "      <td>NaN</td>\n",
              "      <td>NaN</td>\n",
              "      <td>NaN</td>\n",
              "      <td>Standard</td>\n",
              "      <td>Conventional</td>\n",
              "    </tr>\n",
              "    <tr>\n",
              "      <th>1</th>\n",
              "      <td>1139248</td>\n",
              "      <td>57000.0</td>\n",
              "      <td>117657</td>\n",
              "      <td>77</td>\n",
              "      <td>121</td>\n",
              "      <td>3.0</td>\n",
              "      <td>1996</td>\n",
              "      <td>4640.0</td>\n",
              "      <td>Low</td>\n",
              "      <td>2004-03-26</td>\n",
              "      <td>950FII</td>\n",
              "      <td>950</td>\n",
              "      <td>F</td>\n",
              "      <td>II</td>\n",
              "      <td>NaN</td>\n",
              "      <td>Medium</td>\n",
              "      <td>Wheel Loader - 150.0 to 175.0 Horsepower</td>\n",
              "      <td>North Carolina</td>\n",
              "      <td>WL</td>\n",
              "      <td>Wheel Loader</td>\n",
              "      <td>NaN</td>\n",
              "      <td>EROPS w AC</td>\n",
              "      <td>None or Unspecified</td>\n",
              "      <td>NaN</td>\n",
              "      <td>None or Unspecified</td>\n",
              "      <td>NaN</td>\n",
              "      <td>NaN</td>\n",
              "      <td>NaN</td>\n",
              "      <td>NaN</td>\n",
              "      <td>NaN</td>\n",
              "      <td>NaN</td>\n",
              "      <td>NaN</td>\n",
              "      <td>2 Valve</td>\n",
              "      <td>NaN</td>\n",
              "      <td>NaN</td>\n",
              "      <td>NaN</td>\n",
              "      <td>NaN</td>\n",
              "      <td>23.5</td>\n",
              "      <td>None or Unspecified</td>\n",
              "      <td>NaN</td>\n",
              "      <td>NaN</td>\n",
              "      <td>NaN</td>\n",
              "      <td>NaN</td>\n",
              "      <td>NaN</td>\n",
              "      <td>NaN</td>\n",
              "      <td>NaN</td>\n",
              "      <td>NaN</td>\n",
              "      <td>NaN</td>\n",
              "      <td>NaN</td>\n",
              "      <td>NaN</td>\n",
              "      <td>NaN</td>\n",
              "      <td>Standard</td>\n",
              "      <td>Conventional</td>\n",
              "    </tr>\n",
              "    <tr>\n",
              "      <th>2</th>\n",
              "      <td>1139249</td>\n",
              "      <td>10000.0</td>\n",
              "      <td>434808</td>\n",
              "      <td>7009</td>\n",
              "      <td>121</td>\n",
              "      <td>3.0</td>\n",
              "      <td>2001</td>\n",
              "      <td>2838.0</td>\n",
              "      <td>High</td>\n",
              "      <td>2004-02-26</td>\n",
              "      <td>226</td>\n",
              "      <td>226</td>\n",
              "      <td>NaN</td>\n",
              "      <td>NaN</td>\n",
              "      <td>NaN</td>\n",
              "      <td>NaN</td>\n",
              "      <td>Skid Steer Loader - 1351.0 to 1601.0 Lb Operat...</td>\n",
              "      <td>New York</td>\n",
              "      <td>SSL</td>\n",
              "      <td>Skid Steer Loaders</td>\n",
              "      <td>NaN</td>\n",
              "      <td>OROPS</td>\n",
              "      <td>None or Unspecified</td>\n",
              "      <td>NaN</td>\n",
              "      <td>NaN</td>\n",
              "      <td>NaN</td>\n",
              "      <td>NaN</td>\n",
              "      <td>NaN</td>\n",
              "      <td>NaN</td>\n",
              "      <td>NaN</td>\n",
              "      <td>NaN</td>\n",
              "      <td>NaN</td>\n",
              "      <td>Auxiliary</td>\n",
              "      <td>NaN</td>\n",
              "      <td>NaN</td>\n",
              "      <td>NaN</td>\n",
              "      <td>NaN</td>\n",
              "      <td>NaN</td>\n",
              "      <td>None or Unspecified</td>\n",
              "      <td>None or Unspecified</td>\n",
              "      <td>None or Unspecified</td>\n",
              "      <td>Standard</td>\n",
              "      <td>NaN</td>\n",
              "      <td>NaN</td>\n",
              "      <td>NaN</td>\n",
              "      <td>NaN</td>\n",
              "      <td>NaN</td>\n",
              "      <td>NaN</td>\n",
              "      <td>NaN</td>\n",
              "      <td>NaN</td>\n",
              "      <td>NaN</td>\n",
              "      <td>NaN</td>\n",
              "      <td>NaN</td>\n",
              "    </tr>\n",
              "    <tr>\n",
              "      <th>3</th>\n",
              "      <td>1139251</td>\n",
              "      <td>38500.0</td>\n",
              "      <td>1026470</td>\n",
              "      <td>332</td>\n",
              "      <td>121</td>\n",
              "      <td>3.0</td>\n",
              "      <td>2001</td>\n",
              "      <td>3486.0</td>\n",
              "      <td>High</td>\n",
              "      <td>2011-05-19</td>\n",
              "      <td>PC120-6E</td>\n",
              "      <td>PC120</td>\n",
              "      <td>NaN</td>\n",
              "      <td>-6E</td>\n",
              "      <td>NaN</td>\n",
              "      <td>Small</td>\n",
              "      <td>Hydraulic Excavator, Track - 12.0 to 14.0 Metr...</td>\n",
              "      <td>Texas</td>\n",
              "      <td>TEX</td>\n",
              "      <td>Track Excavators</td>\n",
              "      <td>NaN</td>\n",
              "      <td>EROPS w AC</td>\n",
              "      <td>NaN</td>\n",
              "      <td>NaN</td>\n",
              "      <td>NaN</td>\n",
              "      <td>NaN</td>\n",
              "      <td>NaN</td>\n",
              "      <td>NaN</td>\n",
              "      <td>NaN</td>\n",
              "      <td>NaN</td>\n",
              "      <td>NaN</td>\n",
              "      <td>NaN</td>\n",
              "      <td>2 Valve</td>\n",
              "      <td>NaN</td>\n",
              "      <td>NaN</td>\n",
              "      <td>NaN</td>\n",
              "      <td>NaN</td>\n",
              "      <td>NaN</td>\n",
              "      <td>None or Unspecified</td>\n",
              "      <td>NaN</td>\n",
              "      <td>NaN</td>\n",
              "      <td>NaN</td>\n",
              "      <td>NaN</td>\n",
              "      <td>NaN</td>\n",
              "      <td>NaN</td>\n",
              "      <td>NaN</td>\n",
              "      <td>NaN</td>\n",
              "      <td>NaN</td>\n",
              "      <td>NaN</td>\n",
              "      <td>NaN</td>\n",
              "      <td>NaN</td>\n",
              "      <td>NaN</td>\n",
              "      <td>NaN</td>\n",
              "    </tr>\n",
              "    <tr>\n",
              "      <th>4</th>\n",
              "      <td>1139253</td>\n",
              "      <td>11000.0</td>\n",
              "      <td>1057373</td>\n",
              "      <td>17311</td>\n",
              "      <td>121</td>\n",
              "      <td>3.0</td>\n",
              "      <td>2007</td>\n",
              "      <td>722.0</td>\n",
              "      <td>Medium</td>\n",
              "      <td>2009-07-23</td>\n",
              "      <td>S175</td>\n",
              "      <td>S175</td>\n",
              "      <td>NaN</td>\n",
              "      <td>NaN</td>\n",
              "      <td>NaN</td>\n",
              "      <td>NaN</td>\n",
              "      <td>Skid Steer Loader - 1601.0 to 1751.0 Lb Operat...</td>\n",
              "      <td>New York</td>\n",
              "      <td>SSL</td>\n",
              "      <td>Skid Steer Loaders</td>\n",
              "      <td>NaN</td>\n",
              "      <td>EROPS</td>\n",
              "      <td>None or Unspecified</td>\n",
              "      <td>NaN</td>\n",
              "      <td>NaN</td>\n",
              "      <td>NaN</td>\n",
              "      <td>NaN</td>\n",
              "      <td>NaN</td>\n",
              "      <td>NaN</td>\n",
              "      <td>NaN</td>\n",
              "      <td>NaN</td>\n",
              "      <td>NaN</td>\n",
              "      <td>Auxiliary</td>\n",
              "      <td>NaN</td>\n",
              "      <td>NaN</td>\n",
              "      <td>NaN</td>\n",
              "      <td>NaN</td>\n",
              "      <td>NaN</td>\n",
              "      <td>None or Unspecified</td>\n",
              "      <td>None or Unspecified</td>\n",
              "      <td>None or Unspecified</td>\n",
              "      <td>Standard</td>\n",
              "      <td>NaN</td>\n",
              "      <td>NaN</td>\n",
              "      <td>NaN</td>\n",
              "      <td>NaN</td>\n",
              "      <td>NaN</td>\n",
              "      <td>NaN</td>\n",
              "      <td>NaN</td>\n",
              "      <td>NaN</td>\n",
              "      <td>NaN</td>\n",
              "      <td>NaN</td>\n",
              "      <td>NaN</td>\n",
              "    </tr>\n",
              "  </tbody>\n",
              "</table>\n",
              "</div>"
            ],
            "text/plain": [
              "   SalesID  SalePrice  ...  Differential_Type  Steering_Controls\n",
              "0  1139246    66000.0  ...           Standard       Conventional\n",
              "1  1139248    57000.0  ...           Standard       Conventional\n",
              "2  1139249    10000.0  ...                NaN                NaN\n",
              "3  1139251    38500.0  ...                NaN                NaN\n",
              "4  1139253    11000.0  ...                NaN                NaN\n",
              "\n",
              "[5 rows x 53 columns]"
            ]
          },
          "metadata": {
            "tags": []
          },
          "execution_count": 4
        }
      ]
    },
    {
      "cell_type": "code",
      "metadata": {
        "colab": {
          "base_uri": "https://localhost:8080/"
        },
        "id": "32Y-D2h-SZi1",
        "outputId": "e9739dff-c341-46f4-9446-241d76794e93"
      },
      "source": [
        "# features in the data\n",
        "data.columns"
      ],
      "execution_count": 5,
      "outputs": [
        {
          "output_type": "execute_result",
          "data": {
            "text/plain": [
              "Index(['SalesID', 'SalePrice', 'MachineID', 'ModelID', 'datasource',\n",
              "       'auctioneerID', 'YearMade', 'MachineHoursCurrentMeter', 'UsageBand',\n",
              "       'saledate', 'fiModelDesc', 'fiBaseModel', 'fiSecondaryDesc',\n",
              "       'fiModelSeries', 'fiModelDescriptor', 'ProductSize',\n",
              "       'fiProductClassDesc', 'state', 'ProductGroup', 'ProductGroupDesc',\n",
              "       'Drive_System', 'Enclosure', 'Forks', 'Pad_Type', 'Ride_Control',\n",
              "       'Stick', 'Transmission', 'Turbocharged', 'Blade_Extension',\n",
              "       'Blade_Width', 'Enclosure_Type', 'Engine_Horsepower', 'Hydraulics',\n",
              "       'Pushblock', 'Ripper', 'Scarifier', 'Tip_Control', 'Tire_Size',\n",
              "       'Coupler', 'Coupler_System', 'Grouser_Tracks', 'Hydraulics_Flow',\n",
              "       'Track_Type', 'Undercarriage_Pad_Width', 'Stick_Length', 'Thumb',\n",
              "       'Pattern_Changer', 'Grouser_Type', 'Backhoe_Mounting', 'Blade_Type',\n",
              "       'Travel_Controls', 'Differential_Type', 'Steering_Controls'],\n",
              "      dtype='object')"
            ]
          },
          "metadata": {
            "tags": []
          },
          "execution_count": 5
        }
      ]
    },
    {
      "cell_type": "code",
      "metadata": {
        "colab": {
          "base_uri": "https://localhost:8080/"
        },
        "id": "57IS-0Gr23TN",
        "outputId": "6ceed21c-2396-4c66-8187-4025f2948a7b"
      },
      "source": [
        "# what type of data this dataset hold?\n",
        "data.dtypes"
      ],
      "execution_count": 6,
      "outputs": [
        {
          "output_type": "execute_result",
          "data": {
            "text/plain": [
              "SalesID                              int64\n",
              "SalePrice                          float64\n",
              "MachineID                            int64\n",
              "ModelID                              int64\n",
              "datasource                           int64\n",
              "auctioneerID                       float64\n",
              "YearMade                             int64\n",
              "MachineHoursCurrentMeter           float64\n",
              "UsageBand                           object\n",
              "saledate                    datetime64[ns]\n",
              "fiModelDesc                         object\n",
              "fiBaseModel                         object\n",
              "fiSecondaryDesc                     object\n",
              "fiModelSeries                       object\n",
              "fiModelDescriptor                   object\n",
              "ProductSize                         object\n",
              "fiProductClassDesc                  object\n",
              "state                               object\n",
              "ProductGroup                        object\n",
              "ProductGroupDesc                    object\n",
              "Drive_System                        object\n",
              "Enclosure                           object\n",
              "Forks                               object\n",
              "Pad_Type                            object\n",
              "Ride_Control                        object\n",
              "Stick                               object\n",
              "Transmission                        object\n",
              "Turbocharged                        object\n",
              "Blade_Extension                     object\n",
              "Blade_Width                         object\n",
              "Enclosure_Type                      object\n",
              "Engine_Horsepower                   object\n",
              "Hydraulics                          object\n",
              "Pushblock                           object\n",
              "Ripper                              object\n",
              "Scarifier                           object\n",
              "Tip_Control                         object\n",
              "Tire_Size                           object\n",
              "Coupler                             object\n",
              "Coupler_System                      object\n",
              "Grouser_Tracks                      object\n",
              "Hydraulics_Flow                     object\n",
              "Track_Type                          object\n",
              "Undercarriage_Pad_Width             object\n",
              "Stick_Length                        object\n",
              "Thumb                               object\n",
              "Pattern_Changer                     object\n",
              "Grouser_Type                        object\n",
              "Backhoe_Mounting                    object\n",
              "Blade_Type                          object\n",
              "Travel_Controls                     object\n",
              "Differential_Type                   object\n",
              "Steering_Controls                   object\n",
              "dtype: object"
            ]
          },
          "metadata": {
            "tags": []
          },
          "execution_count": 6
        }
      ]
    },
    {
      "cell_type": "code",
      "metadata": {
        "colab": {
          "base_uri": "https://localhost:8080/"
        },
        "id": "1lWnhWbj3dlI",
        "outputId": "f9e5e39e-a8fd-45b4-cbf6-26ab79575571"
      },
      "source": [
        "# are there any missing values?\n",
        "data.isna().sum()"
      ],
      "execution_count": 7,
      "outputs": [
        {
          "output_type": "execute_result",
          "data": {
            "text/plain": [
              "SalesID                          0\n",
              "SalePrice                        0\n",
              "MachineID                        0\n",
              "ModelID                          0\n",
              "datasource                       0\n",
              "auctioneerID                 20136\n",
              "YearMade                         0\n",
              "MachineHoursCurrentMeter    265194\n",
              "UsageBand                   339028\n",
              "saledate                         0\n",
              "fiModelDesc                      0\n",
              "fiBaseModel                      0\n",
              "fiSecondaryDesc             140727\n",
              "fiModelSeries               354031\n",
              "fiModelDescriptor           337882\n",
              "ProductSize                 216605\n",
              "fiProductClassDesc               0\n",
              "state                            0\n",
              "ProductGroup                     0\n",
              "ProductGroupDesc                 0\n",
              "Drive_System                305611\n",
              "Enclosure                      334\n",
              "Forks                       214983\n",
              "Pad_Type                    331602\n",
              "Ride_Control                259970\n",
              "Stick                       331602\n",
              "Transmission                224691\n",
              "Turbocharged                331602\n",
              "Blade_Extension             386715\n",
              "Blade_Width                 386715\n",
              "Enclosure_Type              386715\n",
              "Engine_Horsepower           386715\n",
              "Hydraulics                   82565\n",
              "Pushblock                   386715\n",
              "Ripper                      305753\n",
              "Scarifier                   386704\n",
              "Tip_Control                 386715\n",
              "Tire_Size                   315060\n",
              "Coupler                     192019\n",
              "Coupler_System              367724\n",
              "Grouser_Tracks              367823\n",
              "Hydraulics_Flow             367823\n",
              "Track_Type                  310505\n",
              "Undercarriage_Pad_Width     309782\n",
              "Stick_Length                310437\n",
              "Thumb                       310366\n",
              "Pattern_Changer             310437\n",
              "Grouser_Type                310505\n",
              "Backhoe_Mounting            331986\n",
              "Blade_Type                  330823\n",
              "Travel_Controls             330821\n",
              "Differential_Type           341134\n",
              "Steering_Controls           341176\n",
              "dtype: int64"
            ]
          },
          "metadata": {
            "tags": []
          },
          "execution_count": 7
        }
      ]
    },
    {
      "cell_type": "markdown",
      "metadata": {
        "id": "-YkSD1jT3oaf"
      },
      "source": [
        "So there are (lot of) missing values in the dataset and all the values present are also not in numeric data type."
      ]
    },
    {
      "cell_type": "markdown",
      "metadata": {
        "id": "aCApFKnw41JY"
      },
      "source": [
        "### 1.1 Playing with the dataset by `saledate` feature"
      ]
    },
    {
      "cell_type": "code",
      "metadata": {
        "colab": {
          "base_uri": "https://localhost:8080/",
          "height": 265
        },
        "id": "GsGxWih4_Q_y",
        "outputId": "959eec79-1ab2-45ed-fc82-1f2d06251e4d"
      },
      "source": [
        "# visualizing the spread of saleprice over the saleyear\n",
        "fig, ax = plt.subplots()\n",
        "ax.scatter(data[\"saledate\"][:1000], data[\"SalePrice\"][:1000]);"
      ],
      "execution_count": 8,
      "outputs": [
        {
          "output_type": "display_data",
          "data": {
            "image/png": "[encoded data removed]",
            "text/plain": [
              "<Figure size 432x288 with 1 Axes>"
            ]
          },
          "metadata": {
            "tags": [],
            "needs_background": "light"
          }
        }
      ]
    },
    {
      "cell_type": "code",
      "metadata": {
        "colab": {
          "base_uri": "https://localhost:8080/",
          "height": 265
        },
        "id": "hcO4d7vk_SMq",
        "outputId": "a3e79a27-f5a1-4143-ba03-732f53de1d5d"
      },
      "source": [
        "# looking the SalePrice distribution\n",
        "data[\"SalePrice\"].plot.hist();"
      ],
      "execution_count": 9,
      "outputs": [
        {
          "output_type": "display_data",
          "data": {
            "image/png": "[encoded data removed]",
            "text/plain": [
              "<Figure size 432x288 with 1 Axes>"
            ]
          },
          "metadata": {
            "tags": [],
            "needs_background": "light"
          }
        }
      ]
    },
    {
      "cell_type": "code",
      "metadata": {
        "colab": {
          "base_uri": "https://localhost:8080/"
        },
        "id": "tDzGK6Z04ZP6",
        "outputId": "f31dd7ae-9554-4bb8-eac3-54c9f2b6c320"
      },
      "source": [
        "# viewing the time stamp data\n",
        "data[\"saledate\"]"
      ],
      "execution_count": 10,
      "outputs": [
        {
          "output_type": "execute_result",
          "data": {
            "text/plain": [
              "0        2006-11-16\n",
              "1        2004-03-26\n",
              "2        2004-02-26\n",
              "3        2011-05-19\n",
              "4        2009-07-23\n",
              "            ...    \n",
              "412693   2012-03-07\n",
              "412694   2012-01-28\n",
              "412695   2012-01-28\n",
              "412696   2012-03-07\n",
              "412697   2012-01-28\n",
              "Name: saledate, Length: 412698, dtype: datetime64[ns]"
            ]
          },
          "metadata": {
            "tags": []
          },
          "execution_count": 10
        }
      ]
    },
    {
      "cell_type": "markdown",
      "metadata": {
        "id": "LdmDtEsQ5urI"
      },
      "source": [
        "The time series data is not sorted"
      ]
    },
    {
      "cell_type": "code",
      "metadata": {
        "id": "xp5m1fK_5nl5"
      },
      "source": [
        "# sort the examples by dateime order\n",
        "data.sort_values(by=\"saledate\", inplace=True)"
      ],
      "execution_count": 11,
      "outputs": []
    },
    {
      "cell_type": "code",
      "metadata": {
        "id": "QRJy7sxm6jib"
      },
      "source": [
        "# creating date, month and year columns from saledate column\n",
        "## since the saledate column is as pandas.datatime object, the different datetime attributes can be accessed\n",
        "data[\"SaleDay\"] = data[\"saledate\"].dt.day\n",
        "data[\"SaleMonth\"] = data[\"saledate\"].dt.month\n",
        "data[\"SaleYear\"] = data[\"saledate\"].dt.year"
      ],
      "execution_count": 12,
      "outputs": []
    },
    {
      "cell_type": "code",
      "metadata": {
        "id": "SemcpPhJ844w"
      },
      "source": [
        "# dropping saledate column as there is no need that anymore\n",
        "data.drop(columns=\"saledate\", inplace=True)"
      ],
      "execution_count": 13,
      "outputs": []
    },
    {
      "cell_type": "markdown",
      "metadata": {
        "id": "j44HLqXvBSW0"
      },
      "source": [
        "### 1.2 Filling missing values & Converting non-numeric dtypes to numeric\n",
        "Need to rectify missing values and non-numeric values problems in the dataset before modeling\n",
        "#### 1.2.1 Changing Object dtype data into Pandas Categorical Datatype"
      ]
    },
    {
      "cell_type": "code",
      "metadata": {
        "id": "FpXMA7tM-5Gw"
      },
      "source": [
        "# loop to check and convert string data into Pandas categorical data\n",
        "for col_name, content in data.items():\n",
        "    if pd.api.types.is_string_dtype(content):\n",
        "        data[col_name] = content.astype(\"category\").cat.as_ordered()"
      ],
      "execution_count": 14,
      "outputs": []
    },
    {
      "cell_type": "code",
      "metadata": {
        "colab": {
          "base_uri": "https://localhost:8080/"
        },
        "id": "P-CeiU8LDFSp",
        "outputId": "41173f4a-da84-4c77-c656-621d54f1e2a3"
      },
      "source": [
        "# checking the conversion\n",
        "data.dtypes"
      ],
      "execution_count": 15,
      "outputs": [
        {
          "output_type": "execute_result",
          "data": {
            "text/plain": [
              "SalesID                        int64\n",
              "SalePrice                    float64\n",
              "MachineID                      int64\n",
              "ModelID                        int64\n",
              "datasource                     int64\n",
              "auctioneerID                 float64\n",
              "YearMade                       int64\n",
              "MachineHoursCurrentMeter     float64\n",
              "UsageBand                   category\n",
              "fiModelDesc                 category\n",
              "fiBaseModel                 category\n",
              "fiSecondaryDesc             category\n",
              "fiModelSeries               category\n",
              "fiModelDescriptor           category\n",
              "ProductSize                 category\n",
              "fiProductClassDesc          category\n",
              "state                       category\n",
              "ProductGroup                category\n",
              "ProductGroupDesc            category\n",
              "Drive_System                category\n",
              "Enclosure                   category\n",
              "Forks                       category\n",
              "Pad_Type                    category\n",
              "Ride_Control                category\n",
              "Stick                       category\n",
              "Transmission                category\n",
              "Turbocharged                category\n",
              "Blade_Extension             category\n",
              "Blade_Width                 category\n",
              "Enclosure_Type              category\n",
              "Engine_Horsepower           category\n",
              "Hydraulics                  category\n",
              "Pushblock                   category\n",
              "Ripper                      category\n",
              "Scarifier                   category\n",
              "Tip_Control                 category\n",
              "Tire_Size                   category\n",
              "Coupler                     category\n",
              "Coupler_System              category\n",
              "Grouser_Tracks              category\n",
              "Hydraulics_Flow             category\n",
              "Track_Type                  category\n",
              "Undercarriage_Pad_Width     category\n",
              "Stick_Length                category\n",
              "Thumb                       category\n",
              "Pattern_Changer             category\n",
              "Grouser_Type                category\n",
              "Backhoe_Mounting            category\n",
              "Blade_Type                  category\n",
              "Travel_Controls             category\n",
              "Differential_Type           category\n",
              "Steering_Controls           category\n",
              "SaleDay                        int64\n",
              "SaleMonth                      int64\n",
              "SaleYear                       int64\n",
              "dtype: object"
            ]
          },
          "metadata": {
            "tags": []
          },
          "execution_count": 15
        }
      ]
    },
    {
      "cell_type": "markdown",
      "metadata": {
        "id": "aDhuR-_lDfeY"
      },
      "source": [
        "#### 1.2.2 Filling numeric missing values with median value"
      ]
    },
    {
      "cell_type": "code",
      "metadata": {
        "id": "_99V6NDvDIYl"
      },
      "source": [
        "# loop to check and fill numeric missing values with median value\n",
        "for col_name, content in data.items():\n",
        "    if pd.api.types.is_numeric_dtype(content):\n",
        "        if pd.isna(content).sum():\n",
        "            # creating a column to check whether the value in that column is a filled value or not\n",
        "            data[col_name+\"_is_missing\"] = content.isna()\n",
        "            # fill missing values\n",
        "            data[col_name].fillna(content.median(), inplace=True)"
      ],
      "execution_count": 16,
      "outputs": []
    },
    {
      "cell_type": "markdown",
      "metadata": {
        "id": "-W0e2nAWD4k5"
      },
      "source": [
        "#### 1.2.3 Filling non-numeric(categorical) missing values and/by turning them into numbers"
      ]
    },
    {
      "cell_type": "code",
      "metadata": {
        "id": "Q6Pywdj8DwrX"
      },
      "source": [
        "# Turn categorical variables into numbers\n",
        "for col_name, content in data.items():\n",
        "    # Check columns which *aren't* numeric\n",
        "    if not pd.api.types.is_numeric_dtype(content):\n",
        "        # check non-numeric columns with missing values\n",
        "        if pd.isna(content).sum():\n",
        "            # Add a column to inidicate whether sample had missing value\n",
        "            data[col_name+\"_is_missing\"] = content.isna()\n",
        "        # filing and converting values outside of (second)if block so all categorical columns get converted\n",
        "        data[col_name] = pd.Categorical(content).codes+1\n",
        "        # accessing \"content\" values' \"Categorical\" form and their \"codes\" and adding \"+1\"\n",
        "        ## Categoric form fills \"-1\" for missing values, so adding \"+1\" means filling missing values with '+ve' numbers"
      ],
      "execution_count": 17,
      "outputs": []
    },
    {
      "cell_type": "code",
      "metadata": {
        "colab": {
          "base_uri": "https://localhost:8080/"
        },
        "id": "B0nXcgcwGJoc",
        "outputId": "a51a7010-5321-400a-d9ab-2b1901be448c"
      },
      "source": [
        "data.info()"
      ],
      "execution_count": 18,
      "outputs": [
        {
          "output_type": "stream",
          "text": [
            "<class 'pandas.core.frame.DataFrame'>\n",
            "Int64Index: 412698 entries, 205615 to 409203\n",
            "Data columns (total 95 columns):\n",
            " #   Column                               Non-Null Count   Dtype  \n",
            "---  ------                               --------------   -----  \n",
            " 0   SalesID                              412698 non-null  int64  \n",
            " 1   SalePrice                            412698 non-null  float64\n",
            " 2   MachineID                            412698 non-null  int64  \n",
            " 3   ModelID                              412698 non-null  int64  \n",
            " 4   datasource                           412698 non-null  int64  \n",
            " 5   auctioneerID                         412698 non-null  float64\n",
            " 6   YearMade                             412698 non-null  int64  \n",
            " 7   MachineHoursCurrentMeter             412698 non-null  float64\n",
            " 8   UsageBand                            412698 non-null  int8   \n",
            " 9   fiModelDesc                          412698 non-null  int16  \n",
            " 10  fiBaseModel                          412698 non-null  int16  \n",
            " 11  fiSecondaryDesc                      412698 non-null  int16  \n",
            " 12  fiModelSeries                        412698 non-null  int16  \n",
            " 13  fiModelDescriptor                    412698 non-null  int16  \n",
            " 14  ProductSize                          412698 non-null  int8   \n",
            " 15  fiProductClassDesc                   412698 non-null  int8   \n",
            " 16  state                                412698 non-null  int8   \n",
            " 17  ProductGroup                         412698 non-null  int8   \n",
            " 18  ProductGroupDesc                     412698 non-null  int8   \n",
            " 19  Drive_System                         412698 non-null  int8   \n",
            " 20  Enclosure                            412698 non-null  int8   \n",
            " 21  Forks                                412698 non-null  int8   \n",
            " 22  Pad_Type                             412698 non-null  int8   \n",
            " 23  Ride_Control                         412698 non-null  int8   \n",
            " 24  Stick                                412698 non-null  int8   \n",
            " 25  Transmission                         412698 non-null  int8   \n",
            " 26  Turbocharged                         412698 non-null  int8   \n",
            " 27  Blade_Extension                      412698 non-null  int8   \n",
            " 28  Blade_Width                          412698 non-null  int8   \n",
            " 29  Enclosure_Type                       412698 non-null  int8   \n",
            " 30  Engine_Horsepower                    412698 non-null  int8   \n",
            " 31  Hydraulics                           412698 non-null  int8   \n",
            " 32  Pushblock                            412698 non-null  int8   \n",
            " 33  Ripper                               412698 non-null  int8   \n",
            " 34  Scarifier                            412698 non-null  int8   \n",
            " 35  Tip_Control                          412698 non-null  int8   \n",
            " 36  Tire_Size                            412698 non-null  int8   \n",
            " 37  Coupler                              412698 non-null  int8   \n",
            " 38  Coupler_System                       412698 non-null  int8   \n",
            " 39  Grouser_Tracks                       412698 non-null  int8   \n",
            " 40  Hydraulics_Flow                      412698 non-null  int8   \n",
            " 41  Track_Type                           412698 non-null  int8   \n",
            " 42  Undercarriage_Pad_Width              412698 non-null  int8   \n",
            " 43  Stick_Length                         412698 non-null  int8   \n",
            " 44  Thumb                                412698 non-null  int8   \n",
            " 45  Pattern_Changer                      412698 non-null  int8   \n",
            " 46  Grouser_Type                         412698 non-null  int8   \n",
            " 47  Backhoe_Mounting                     412698 non-null  int8   \n",
            " 48  Blade_Type                           412698 non-null  int8   \n",
            " 49  Travel_Controls                      412698 non-null  int8   \n",
            " 50  Differential_Type                    412698 non-null  int8   \n",
            " 51  Steering_Controls                    412698 non-null  int8   \n",
            " 52  SaleDay                              412698 non-null  int64  \n",
            " 53  SaleMonth                            412698 non-null  int64  \n",
            " 54  SaleYear                             412698 non-null  int64  \n",
            " 55  auctioneerID_is_missing              412698 non-null  bool   \n",
            " 56  MachineHoursCurrentMeter_is_missing  412698 non-null  bool   \n",
            " 57  UsageBand_is_missing                 412698 non-null  bool   \n",
            " 58  fiSecondaryDesc_is_missing           412698 non-null  bool   \n",
            " 59  fiModelSeries_is_missing             412698 non-null  bool   \n",
            " 60  fiModelDescriptor_is_missing         412698 non-null  bool   \n",
            " 61  ProductSize_is_missing               412698 non-null  bool   \n",
            " 62  Drive_System_is_missing              412698 non-null  bool   \n",
            " 63  Enclosure_is_missing                 412698 non-null  bool   \n",
            " 64  Forks_is_missing                     412698 non-null  bool   \n",
            " 65  Pad_Type_is_missing                  412698 non-null  bool   \n",
            " 66  Ride_Control_is_missing              412698 non-null  bool   \n",
            " 67  Stick_is_missing                     412698 non-null  bool   \n",
            " 68  Transmission_is_missing              412698 non-null  bool   \n",
            " 69  Turbocharged_is_missing              412698 non-null  bool   \n",
            " 70  Blade_Extension_is_missing           412698 non-null  bool   \n",
            " 71  Blade_Width_is_missing               412698 non-null  bool   \n",
            " 72  Enclosure_Type_is_missing            412698 non-null  bool   \n",
            " 73  Engine_Horsepower_is_missing         412698 non-null  bool   \n",
            " 74  Hydraulics_is_missing                412698 non-null  bool   \n",
            " 75  Pushblock_is_missing                 412698 non-null  bool   \n",
            " 76  Ripper_is_missing                    412698 non-null  bool   \n",
            " 77  Scarifier_is_missing                 412698 non-null  bool   \n",
            " 78  Tip_Control_is_missing               412698 non-null  bool   \n",
            " 79  Tire_Size_is_missing                 412698 non-null  bool   \n",
            " 80  Coupler_is_missing                   412698 non-null  bool   \n",
            " 81  Coupler_System_is_missing            412698 non-null  bool   \n",
            " 82  Grouser_Tracks_is_missing            412698 non-null  bool   \n",
            " 83  Hydraulics_Flow_is_missing           412698 non-null  bool   \n",
            " 84  Track_Type_is_missing                412698 non-null  bool   \n",
            " 85  Undercarriage_Pad_Width_is_missing   412698 non-null  bool   \n",
            " 86  Stick_Length_is_missing              412698 non-null  bool   \n",
            " 87  Thumb_is_missing                     412698 non-null  bool   \n",
            " 88  Pattern_Changer_is_missing           412698 non-null  bool   \n",
            " 89  Grouser_Type_is_missing              412698 non-null  bool   \n",
            " 90  Backhoe_Mounting_is_missing          412698 non-null  bool   \n",
            " 91  Blade_Type_is_missing                412698 non-null  bool   \n",
            " 92  Travel_Controls_is_missing           412698 non-null  bool   \n",
            " 93  Differential_Type_is_missing         412698 non-null  bool   \n",
            " 94  Steering_Controls_is_missing         412698 non-null  bool   \n",
            "dtypes: bool(40), float64(3), int16(5), int64(8), int8(39)\n",
            "memory usage: 72.8 MB\n"
          ],
          "name": "stdout"
        }
      ]
    },
    {
      "cell_type": "markdown",
      "metadata": {
        "id": "6GE3UIVoHNEj"
      },
      "source": [
        "#### 1.2.4 Save processed dataset into a new `.csv` file"
      ]
    },
    {
      "cell_type": "code",
      "metadata": {
        "id": "Gg268zflGQNv"
      },
      "source": [
        "data.to_csv(\"/content/drive/MyDrive/Colab Notebooks/bulldozer-price-prediction-data/processed_data.csv\", index=False)"
      ],
      "execution_count": 19,
      "outputs": []
    },
    {
      "cell_type": "markdown",
      "metadata": {
        "id": "rE5m_ZG0QOU2"
      },
      "source": [
        "## 2. Model building\n",
        "\n",
        "As this is a regression problem the regression model `RandomForestRegressor` from the Scikit-Learn framework is used to predict the future sale prizes."
      ]
    },
    {
      "cell_type": "markdown",
      "metadata": {
        "id": "OxV5QVD8UgSS"
      },
      "source": [
        "### 2.1 Baseline model and score\n",
        "\n",
        "Model training with all the preprocessed data and trying score on the same data."
      ]
    },
    {
      "cell_type": "code",
      "metadata": {
        "colab": {
          "base_uri": "https://localhost:8080/"
        },
        "id": "XvFuI6xKHr-m",
        "outputId": "d9ac4bcc-5449-423f-d8e3-2b8e7e7f6132"
      },
      "source": [
        "# checking the time to execute this cell\n",
        "%%time\n",
        "# model instantiation\n",
        "baseline_model = RandomForestRegressor(random_state=9)\n",
        "# fit the model\n",
        "baseline_model.fit(data.drop(columns=\"SalePrice\"), data[\"SalePrice\"])"
      ],
      "execution_count": 20,
      "outputs": [
        {
          "output_type": "stream",
          "text": [
            "CPU times: user 13min 43s, sys: 4.21 s, total: 13min 47s\n",
            "Wall time: 13min 46s\n"
          ],
          "name": "stdout"
        }
      ]
    },
    {
      "cell_type": "markdown",
      "metadata": {
        "id": "KqX7piyoarCY"
      },
      "source": [
        "The model is perfect and it is not throwing error but it took some time to execute. That's because the size of the data(number of samples) is huge.  \n",
        "Need to reduce the time to train the model by trying different methods."
      ]
    },
    {
      "cell_type": "code",
      "metadata": {
        "colab": {
          "base_uri": "https://localhost:8080/"
        },
        "id": "RmdeSINrZl2p",
        "outputId": "c7ad2c57-e7c2-469a-c4e4-3ffeda94a89a"
      },
      "source": [
        "# check the score of the model on the same data\n",
        "baseline_model.score(data.drop(columns=\"SalePrice\"), data[\"SalePrice\"])"
      ],
      "execution_count": 21,
      "outputs": [
        {
          "output_type": "execute_result",
          "data": {
            "text/plain": [
              "0.9875413704332302"
            ]
          },
          "metadata": {
            "tags": []
          },
          "execution_count": 21
        }
      ]
    },
    {
      "cell_type": "markdown",
      "metadata": {
        "id": "1VDXtL_AQN66"
      },
      "source": [
        "That is a good score but it is evaluated on the same data which is used to train the model. So this is not the right way to evaluate a model.  \n",
        "\n",
        "### 2.2 Spliting train and valid sets, then features[X] & target label[y]\n",
        "\n",
        "According to [Kaggle Blue Book for Bulldozers data description](https://www.kaggle.com/c/bluebook-for-bulldozers/data),  \n",
        "- Train Data = data through the end of 2011.\n",
        "- Validation Data = data from January 1, 2012 - April 30, 2012.\n",
        "- Test Data =  data from May 1, 2012 - November 2012.  \n",
        "\n",
        "So the usual method of randomly splitting the data into train and test sets using something like `train_test_split()` wouldn't work.  \n",
        "Instead the data is split into train and vaild sets using the timestamp like `SaleYear`"
      ]
    },
    {
      "cell_type": "code",
      "metadata": {
        "colab": {
          "base_uri": "https://localhost:8080/"
        },
        "id": "TjhuUJG3lElx",
        "outputId": "2d750841-1383-4e8f-f0de-3d3f4d41764a"
      },
      "source": [
        "# checking saleyear values in asceding order\n",
        "data[\"SaleYear\"].value_counts().sort_index()"
      ],
      "execution_count": 22,
      "outputs": [
        {
          "output_type": "execute_result",
          "data": {
            "text/plain": [
              "1989     4806\n",
              "1990     4529\n",
              "1991     5109\n",
              "1992     5519\n",
              "1993     6303\n",
              "1994     7929\n",
              "1995     8530\n",
              "1996     8829\n",
              "1997     9785\n",
              "1998    13046\n",
              "1999    12793\n",
              "2000    17415\n",
              "2001    17594\n",
              "2002    17246\n",
              "2003    15254\n",
              "2004    19879\n",
              "2005    20463\n",
              "2006    21685\n",
              "2007    32208\n",
              "2008    39767\n",
              "2009    43849\n",
              "2010    33390\n",
              "2011    35197\n",
              "2012    11573\n",
              "Name: SaleYear, dtype: int64"
            ]
          },
          "metadata": {
            "tags": []
          },
          "execution_count": 22
        }
      ]
    },
    {
      "cell_type": "code",
      "metadata": {
        "colab": {
          "base_uri": "https://localhost:8080/"
        },
        "id": "YkDEeLF4lRCG",
        "outputId": "88eae8b5-f637-4e03-e2ac-7c8b24f33a01"
      },
      "source": [
        "# make train set with data till 2011 -> means data except 2012\n",
        "data_train = data[data[\"SaleYear\"] != 2012]\n",
        "# make validation set with data from year 2012\n",
        "data_valid = data[data[\"SaleYear\"] == 2012]\n",
        "\n",
        "data_train.shape, data_valid.shape"
      ],
      "execution_count": 23,
      "outputs": [
        {
          "output_type": "execute_result",
          "data": {
            "text/plain": [
              "((401125, 95), (11573, 95))"
            ]
          },
          "metadata": {
            "tags": []
          },
          "execution_count": 23
        }
      ]
    },
    {
      "cell_type": "code",
      "metadata": {
        "colab": {
          "base_uri": "https://localhost:8080/"
        },
        "id": "pKvsJHb7mCWv",
        "outputId": "791bc53b-2ac0-443d-d7d8-d47f235efe1a"
      },
      "source": [
        "# split X & y [features and target] for both train and validation sets\n",
        "X_train, y_train = data_train.drop(columns=\"SalePrice\"), data_train[\"SalePrice\"]\n",
        "X_valid, y_valid = data_valid.drop(columns=\"SalePrice\"), data_valid[\"SalePrice\"]\n",
        "\n",
        "X_train.shape, y_train.shape, X_valid.shape, y_valid.shape"
      ],
      "execution_count": 24,
      "outputs": [
        {
          "output_type": "execute_result",
          "data": {
            "text/plain": [
              "((401125, 94), (401125,), (11573, 94), (11573,))"
            ]
          },
          "metadata": {
            "tags": []
          },
          "execution_count": 24
        }
      ]
    },
    {
      "cell_type": "markdown",
      "metadata": {
        "id": "f5DOGoD3nm3Z"
      },
      "source": [
        "### 2.3 Model training (fit the model)\n",
        "\n",
        "Now try to fit the model with less number of samples from the X_train, y_train data to make the training fatser."
      ]
    },
    {
      "cell_type": "code",
      "metadata": {
        "colab": {
          "base_uri": "https://localhost:8080/"
        },
        "id": "4RTaCoEpmj3l",
        "outputId": "2a60ea2c-2cb7-4c55-af7d-dea0a6c9f880"
      },
      "source": [
        "# checking the time to execute this cell\n",
        "%%time\n",
        "# Instantiating the model with low value for `max_samples` parameter\n",
        "## Cutting down the max number of samples to roughly (1/4)th, probably improve the training time\n",
        "model = RandomForestRegressor(max_samples=100000,\n",
        "                              random_state=9)\n",
        "# train the model\n",
        "model.fit(X_train, y_train)"
      ],
      "execution_count": 25,
      "outputs": [
        {
          "output_type": "stream",
          "text": [
            "CPU times: user 4min 34s, sys: 1.45 s, total: 4min 35s\n",
            "Wall time: 4min 34s\n"
          ],
          "name": "stdout"
        }
      ]
    },
    {
      "cell_type": "markdown",
      "metadata": {
        "id": "0IO6qLIfUxQz"
      },
      "source": [
        "The training time reduced significantly, but it can be reduced further by lowering the `max_samples` value.  \n",
        "Setting `max_samples` to 100000 means every `n_estimator`(default 100) in the `RandomForestRegressor` will only see 100000 random samples from the DataFrame instead of the entire 401125.  \n",
        "In other words, the model will be looking at 4x less samples which means faster computation speeds but in such cases the results may get worsen (because the model has less samples to learn patterns from).  \n",
        "Next, evaluaute the trained model."
      ]
    },
    {
      "cell_type": "code",
      "metadata": {
        "colab": {
          "base_uri": "https://localhost:8080/"
        },
        "id": "-dUoA79HSd1Q",
        "outputId": "fe759c7a-7ed0-4b7f-e701-16db13b4537d"
      },
      "source": [
        "# test the model with testing data\n",
        "model.score(X_valid, y_valid)"
      ],
      "execution_count": 26,
      "outputs": [
        {
          "output_type": "execute_result",
          "data": {
            "text/plain": [
              "0.874100031898638"
            ]
          },
          "metadata": {
            "tags": []
          },
          "execution_count": 26
        }
      ]
    },
    {
      "cell_type": "markdown",
      "metadata": {
        "id": "llq7cLn1WeGb"
      },
      "source": [
        "## 3. Model Evaluation\n",
        "\n",
        "The test score from the `.score()` looks fairly good. But that is only a baseline metric to evaluate a model. It gives a little quick overview of how the model performs.  \n",
        "In `scikit-learn` library there are bunch of [evaluation metrics](https://scikit-learn.org/stable/modules/model_evaluation.html#regression-metrics) to test Regression models.  \n",
        "Some of them are,\n",
        "- r2_score (the coefficient of determination)\n",
        "- mean_squared_error\n",
        "- mean_absolute_error\n",
        "- mean_squared_log_error  \n",
        "\n",
        "According to [Kaggle Bluebook for Bulldozers competition](https://www.kaggle.com/c/bluebook-for-bulldozers/overview/evaluation), the recommended evaluation metric to use is **root mean squared log error (RMSLE)**.\n"
      ]
    },
    {
      "cell_type": "code",
      "metadata": {
        "id": "rLVRNmhT2Y33"
      },
      "source": [
        "# creating RMSLE function from MSLE (sklearn.metrics.mean_squared_log_error()) function\n",
        "## by taking the Square-root of mean_squared_log_error()\n",
        "def rmsle(y_true, y_preds):\n",
        "    \"\"\"\n",
        "    Function to caluculate and return the RMSLE (Root Mean Squared Log Error) metrics,\n",
        "    using given true labels and predicted lables.\n",
        "    \"\"\"\n",
        "    return np.sqrt(mean_squared_log_error(y_true, y_preds))"
      ],
      "execution_count": 27,
      "outputs": []
    },
    {
      "cell_type": "code",
      "metadata": {
        "id": "1sFM92R05bLy"
      },
      "source": [
        "# creating a function to calculate all desired metrics to test the model\n",
        "def score_card(model, X_train, y_train, X_valid, y_valid):\n",
        "    \"\"\"\n",
        "    Function to evaluate the given model on different evaluation metrics using both train and validation datasets.\n",
        "    \n",
        "    Parameters:\n",
        "    model = estimator on which the evaluation to be done\n",
        "    X_train = training data without target labels\n",
        "    y_train = target labels of training data\n",
        "    X_valid = validation data without target labels\n",
        "    y_valid =  target labels of validation data\n",
        "    \n",
        "    Returns:\n",
        "    scores = the calculated scores of all metrics as single dictionary.\n",
        "    \"\"\"\n",
        "    # predicting target labels from the train & valid data\n",
        "    train_y_preds = model.predict(X_train)\n",
        "    valid_y_preds = model.predict(X_valid)\n",
        "    \n",
        "    # creating scores dictionary with all metrics' evaluated scores\n",
        "    scores = {\"train R^2 score\": r2_score(y_train, train_y_preds),\n",
        "              \"valid R^2 score\": r2_score(y_valid, valid_y_preds),\n",
        "              \"train mean absolute error(MAE)\": mean_absolute_error(y_train, train_y_preds),\n",
        "              \"valid mean absolute error(MAE)\": mean_absolute_error(y_valid, valid_y_preds),\n",
        "              \"train mean squared error(MSE)\": mean_squared_error(y_train, train_y_preds),\n",
        "              \"valid mean squared error(MSE)\": mean_squared_error(y_valid, valid_y_preds),\n",
        "              \"train root mean squared log error(RMSLE)\": rmsle(y_train, train_y_preds),\n",
        "              \"valid root mean squared log error(RMSLE)\": rmsle(y_valid, valid_y_preds)}\n",
        "              \n",
        "    return scores"
      ],
      "execution_count": 28,
      "outputs": []
    },
    {
      "cell_type": "code",
      "metadata": {
        "colab": {
          "base_uri": "https://localhost:8080/"
        },
        "id": "V_UOFgLZ8awK",
        "outputId": "7a5ba70e-e51a-4f38-cf0d-52e61b4f463a"
      },
      "source": [
        "# checking the model's performs by testing it user the created function\n",
        "initial_scores = score_card(model=model,\n",
        "                            X_train=X_train,\n",
        "                            y_train=y_train,\n",
        "                            X_valid=X_valid,\n",
        "                            y_valid=y_valid)\n",
        "initial_scores"
      ],
      "execution_count": 29,
      "outputs": [
        {
          "output_type": "execute_result",
          "data": {
            "text/plain": [
              "{'train R^2 score': 0.9394033786041891,\n",
              " 'train mean absolute error(MAE)': 3581.0459310688693,\n",
              " 'train mean squared error(MSE)': 32158467.580441423,\n",
              " 'train root mean squared log error(RMSLE)': 0.17483003825678048,\n",
              " 'valid R^2 score': 0.874100031898638,\n",
              " 'valid mean absolute error(MAE)': 6124.536350989371,\n",
              " 'valid mean squared error(MSE)': 86477215.00817102,\n",
              " 'valid root mean squared log error(RMSLE)': 0.25256462841608773}"
            ]
          },
          "metadata": {
            "tags": []
          },
          "execution_count": 29
        }
      ]
    },
    {
      "cell_type": "markdown",
      "metadata": {
        "id": "r0H4rKiNFj_G"
      },
      "source": [
        "Can use the cross-validation method to evaluate the model for better testing.  \n",
        "But as it takes whole dataset for testing the execution time will be longer.\n"
      ]
    },
    {
      "cell_type": "code",
      "metadata": {
        "colab": {
          "base_uri": "https://localhost:8080/"
        },
        "id": "jtCyOJnm76yY",
        "outputId": "7cf7686d-8886-4fd7-e0da-6c3b120ba782"
      },
      "source": [
        "# checking the time to execute this cell\n",
        "%%time\n",
        "# using the cross-validation method to evaluate the model\n",
        "cv_msle =  cross_val_score(estimator=model,\n",
        "                           X=data.drop(columns=\"SalePrice\"),\n",
        "                           y=data[\"SalePrice\"],\n",
        "                           cv=5,\n",
        "                           scoring=\"neg_mean_squared_log_error\")\n",
        "\n",
        "cv_rmsle = np.sqrt(np.abs(cv_msle))\n",
        "print(\"Cross-validated MSLE: \", cv_msle)\n",
        "print(\"Cross-validated RMSLE(absolute): \", cv_rmsle)\n",
        "print(\"Average of Cross-validated RMSLE: \", np.average(cv_rmsle))"
      ],
      "execution_count": 30,
      "outputs": [
        {
          "output_type": "stream",
          "text": [
            "Cross-validated MSLE:  [-0.13903843 -0.08265967 -0.05902137 -0.08067552 -0.0740007 ]\n",
            "Cross-validated RMSLE(absolute):  [0.37287857 0.28750594 0.24294315 0.28403437 0.2720307 ]\n",
            "Average of Cross-validated RMSLE:  0.2918785446116557\n",
            "CPU times: user 21min 38s, sys: 3.48 s, total: 21min 42s\n",
            "Wall time: 21min 36s\n"
          ],
          "name": "stdout"
        }
      ]
    },
    {
      "cell_type": "markdown",
      "metadata": {
        "id": "2881TFntGlgy"
      },
      "source": [
        "The required metrics are showing the model performing well. But it is only a raw evaluation.  \n",
        "There are much more things can try to improve the model performance.  \n",
        "\n",
        "## 4. Hyperparameter Tuning\n",
        "\n",
        "By tuning the hyperparameters of an estimator, can probably improve the model's performance, efficiency and reliability.  \n",
        "Hyperparameter tuning means changing/altering the default values of an estimator given in sklearn with respective values to achive the problem statement.  \n",
        "\n",
        "This can be done by exhaustively using `GridSearchCV` or by random searching using `RandomizedSearchCV`"
      ]
    },
    {
      "cell_type": "code",
      "metadata": {
        "id": "ATRdTBg_9jpw"
      },
      "source": [
        "# Different RandomForestRegressor hyperparameters\n",
        "grid = {\"n_estimators\": np.arange(10, 100, 10),\n",
        "        \"max_depth\": [None, 3, 5, 10],\n",
        "        \"min_samples_split\": np.arange(2, 20, 2),\n",
        "        \"min_samples_leaf\": np.arange(1, 20, 2),\n",
        "        \"max_features\": [0.5, 1, \"sqrt\", \"auto\"],\n",
        "        \"max_samples\": [20000]} # max_samples reduced to (1/20)th"
      ],
      "execution_count": 31,
      "outputs": []
    },
    {
      "cell_type": "markdown",
      "metadata": {
        "id": "zvQiH8EssbaP"
      },
      "source": [
        "`GridSearchCV()` is good option when execution time is not in consideration and have good computational power machines. Because in the above created `grid` there are 12960 possible candidates.  \n",
        "So the next cell is commented out."
      ]
    },
    {
      "cell_type": "code",
      "metadata": {
        "id": "qu2pWs57PLfb"
      },
      "source": [
        "# # checking the time to execute this cell\n",
        "# %%time\n",
        "# # tuning exhaustively by GridSearchCV\n",
        "# gs_model = GridSearchCV(estimator=RandomForestRegressor(),\n",
        "#                         param_grid=grid,\n",
        "#                         cv=5,\n",
        "#                         verbose=True) \n",
        "# # train the model\n",
        "# gs_model.fit(X_train, y_train)"
      ],
      "execution_count": 32,
      "outputs": []
    },
    {
      "cell_type": "markdown",
      "metadata": {
        "id": "m72OV3dLu3Xs"
      },
      "source": [
        "So, here the tuning is done by using `RandomizedSearchCV()` for `100` candidates only"
      ]
    },
    {
      "cell_type": "code",
      "metadata": {
        "colab": {
          "base_uri": "https://localhost:8080/"
        },
        "id": "2yBX8B2MUSWX",
        "outputId": "bbbc03b1-0a43-4708-d2af-8e3a974d5bdb"
      },
      "source": [
        "# checking the time to execute this cell\n",
        "%%time\n",
        "# tuning randomly searching by RandomizedSearchCV\n",
        "rs_model = RandomizedSearchCV(estimator=RandomForestRegressor(),\n",
        "                              param_distributions=grid,\n",
        "                              n_iter=100,\n",
        "                              cv=5,\n",
        "                              random_state=9)\n",
        "# train the model\n",
        "rs_model.fit(X_train, y_train)"
      ],
      "execution_count": 33,
      "outputs": [
        {
          "output_type": "stream",
          "text": [
            "CPU times: user 1h 5min 44s, sys: 32.6 s, total: 1h 6min 17s\n",
            "Wall time: 1h 5min 53s\n"
          ],
          "name": "stdout"
        }
      ]
    },
    {
      "cell_type": "code",
      "metadata": {
        "colab": {
          "base_uri": "https://localhost:8080/"
        },
        "id": "KL7qaCps2Ydg",
        "outputId": "a309a9f0-c0c8-419e-c1ea-f4c06ed0a4b3"
      },
      "source": [
        "# evaluate the model\n",
        "score_card(rs_model, X_train, y_train, X_valid, y_valid)"
      ],
      "execution_count": 34,
      "outputs": [
        {
          "output_type": "execute_result",
          "data": {
            "text/plain": [
              "{'train R^2 score': 0.8717246955165173,\n",
              " 'train mean absolute error(MAE)': 5293.521725402323,\n",
              " 'train mean squared error(MSE)': 68075366.67198588,\n",
              " 'train root mean squared log error(RMSLE)': 0.24582864535174628,\n",
              " 'valid R^2 score': 0.8423775670712375,\n",
              " 'valid mean absolute error(MAE)': 6869.809138136655,\n",
              " 'valid mean squared error(MSE)': 108266501.00115605,\n",
              " 'valid root mean squared log error(RMSLE)': 0.280797442772471}"
            ]
          },
          "metadata": {
            "tags": []
          },
          "execution_count": 34
        }
      ]
    },
    {
      "cell_type": "code",
      "metadata": {
        "colab": {
          "base_uri": "https://localhost:8080/"
        },
        "id": "C-zAIT992ja4",
        "outputId": "7462c65f-adba-4588-88cd-901d81276531"
      },
      "source": [
        "# compare with initial model's scores\n",
        "initial_scores"
      ],
      "execution_count": 35,
      "outputs": [
        {
          "output_type": "execute_result",
          "data": {
            "text/plain": [
              "{'train R^2 score': 0.9394033786041891,\n",
              " 'train mean absolute error(MAE)': 3581.0459310688693,\n",
              " 'train mean squared error(MSE)': 32158467.580441423,\n",
              " 'train root mean squared log error(RMSLE)': 0.17483003825678048,\n",
              " 'valid R^2 score': 0.874100031898638,\n",
              " 'valid mean absolute error(MAE)': 6124.536350989371,\n",
              " 'valid mean squared error(MSE)': 86477215.00817102,\n",
              " 'valid root mean squared log error(RMSLE)': 0.25256462841608773}"
            ]
          },
          "metadata": {
            "tags": []
          },
          "execution_count": 35
        }
      ]
    },
    {
      "cell_type": "markdown",
      "metadata": {
        "id": "X02jc3-un4nb"
      },
      "source": [
        "Actually the tuning process lowered the model's performance slightly.  \n",
        "However this whole process is experimental in nature. Can improve the performance by doing further research and adjusting the hyperparameters more effectively."
      ]
    },
    {
      "cell_type": "code",
      "metadata": {
        "id": "ev3_SQumnouj",
        "colab": {
          "base_uri": "https://localhost:8080/"
        },
        "outputId": "68b7cccc-84b7-4cc2-bca2-430d4a1df4af"
      },
      "source": [
        "# check what are best parameters the RandomizedSearchCV gave\n",
        "rs_model.best_params_"
      ],
      "execution_count": 36,
      "outputs": [
        {
          "output_type": "execute_result",
          "data": {
            "text/plain": [
              "{'max_depth': None,\n",
              " 'max_features': 'auto',\n",
              " 'max_samples': 20000,\n",
              " 'min_samples_leaf': 1,\n",
              " 'min_samples_split': 14,\n",
              " 'n_estimators': 50}"
            ]
          },
          "metadata": {
            "tags": []
          },
          "execution_count": 36
        }
      ]
    },
    {
      "cell_type": "markdown",
      "metadata": {
        "id": "FueD1JD9paIN"
      },
      "source": [
        "There is a decrement in `n_estimators` (default value is `100`).  \n",
        "\n",
        "In order to reduce the time between experiments,\n",
        "Next, create one final `RandomForestRegressor()` model with altered parameters and see it can perform well than the previous one.\n"
      ]
    },
    {
      "cell_type": "code",
      "metadata": {
        "colab": {
          "base_uri": "https://localhost:8080/"
        },
        "id": "Wvu0vLCO2m3b",
        "outputId": "2960f617-03d9-4149-ecbd-3efdabe4c774"
      },
      "source": [
        "# checking the time to execute this cell\n",
        "%%time\n",
        "# giving values to estimator's parameters and instantiating it\n",
        "best_model = RandomForestRegressor(n_estimators=100,\n",
        "                                   max_depth=None,\n",
        "                                   min_samples_leaf=1,\n",
        "                                   min_samples_split=14,\n",
        "                                   max_features='auto',\n",
        "                                   random_state=9)\n",
        "# train the model this time model will use all the training samples as the `max_samples` is set to default.\n",
        "best_model.fit(X_train, y_train)"
      ],
      "execution_count": 37,
      "outputs": [
        {
          "output_type": "stream",
          "text": [
            "CPU times: user 11min 37s, sys: 591 ms, total: 11min 37s\n",
            "Wall time: 11min 35s\n"
          ],
          "name": "stdout"
        }
      ]
    },
    {
      "cell_type": "code",
      "metadata": {
        "colab": {
          "base_uri": "https://localhost:8080/"
        },
        "id": "sDIru8Bd6OpN",
        "outputId": "5a6d40b8-ba45-462b-b089-a4b559a389a3"
      },
      "source": [
        "# evaluate the model\n",
        "score_card(best_model, X_train, y_train, X_valid, y_valid)"
      ],
      "execution_count": 38,
      "outputs": [
        {
          "output_type": "execute_result",
          "data": {
            "text/plain": [
              "{'train R^2 score': 0.9608938003971574,\n",
              " 'train mean absolute error(MAE)': 2854.691392602146,\n",
              " 'train mean squared error(MSE)': 20753557.263659965,\n",
              " 'train root mean squared log error(RMSLE)': 0.1403006729243311,\n",
              " 'valid R^2 score': 0.874893195955178,\n",
              " 'valid mean absolute error(MAE)': 6053.408800803467,\n",
              " 'valid mean squared error(MSE)': 85932412.49798352,\n",
              " 'valid root mean squared log error(RMSLE)': 0.25040121671966603}"
            ]
          },
          "metadata": {
            "tags": []
          },
          "execution_count": 38
        }
      ]
    },
    {
      "cell_type": "markdown",
      "metadata": {
        "id": "jyKVTEubwXnE"
      },
      "source": [
        "This is okay because it gives small imporvement in performance and training time is also comparably less.  \n",
        "\n",
        "## 5. Save the model\n",
        "\n",
        "Saving the trained model to a joblib file to share and reload elsewhere."
      ]
    },
    {
      "cell_type": "code",
      "metadata": {
        "id": "EYr8DVbp7ipD",
        "colab": {
          "base_uri": "https://localhost:8080/"
        },
        "outputId": "c3d9be1b-ff0e-45c5-ac6d-dc8af21471b1"
      },
      "source": [
        "# saving the model using joblib library\n",
        "joblib.dump(best_model, \"/content/drive/MyDrive/Colab Notebooks/bulldozer-price-prediction-data/Sale-price-prediction-random-forest-model.joblib\")"
      ],
      "execution_count": 39,
      "outputs": [
        {
          "output_type": "execute_result",
          "data": {
            "text/plain": [
              "['/content/drive/MyDrive/Colab Notebooks/bulldozer-price-prediction-data/Sale-price-prediction-random-forest-model.joblib']"
            ]
          },
          "metadata": {
            "tags": []
          },
          "execution_count": 39
        }
      ]
    },
    {
      "cell_type": "markdown",
      "metadata": {
        "id": "funVdAjzy4li"
      },
      "source": [
        "## 6. Predictions; Introducing `Test.csv` data \n",
        "\n",
        "It's time to make predictions on the test data.  \n",
        "The model is trained on data prior to 2011. However, the test data is from May 1 2012 to November 2012.  \n",
        "The process here is, the model is trying to use the patterns it has learned from the training data to predict the sale price of a Bulldozer with characteristics it's never seen before but are assumed to be similar to that of those in the training data."
      ]
    },
    {
      "cell_type": "markdown",
      "metadata": {
        "id": "WbO6rJjU5ma-"
      },
      "source": [
        "### 6.1 Test data preprocessing"
      ]
    },
    {
      "cell_type": "code",
      "metadata": {
        "id": "H_iCt7DfynM-"
      },
      "source": [
        "# importing test data\n",
        "test_data = pd.read_csv(\"/content/drive/MyDrive/Colab Notebooks/bulldozer-price-prediction-data/Test.csv\",\n",
        "                        parse_dates=[\"saledate\"]) # the time feature need to be parsed into datetim object"
      ],
      "execution_count": 40,
      "outputs": []
    },
    {
      "cell_type": "code",
      "metadata": {
        "colab": {
          "base_uri": "https://localhost:8080/"
        },
        "id": "FGhY4Zpxz-P1",
        "outputId": "bd5af681-c77f-4e8d-d124-1954d643a513"
      },
      "source": [
        "# overview the test data\n",
        "test_data.info()"
      ],
      "execution_count": 41,
      "outputs": [
        {
          "output_type": "stream",
          "text": [
            "<class 'pandas.core.frame.DataFrame'>\n",
            "RangeIndex: 12457 entries, 0 to 12456\n",
            "Data columns (total 52 columns):\n",
            " #   Column                    Non-Null Count  Dtype         \n",
            "---  ------                    --------------  -----         \n",
            " 0   SalesID                   12457 non-null  int64         \n",
            " 1   MachineID                 12457 non-null  int64         \n",
            " 2   ModelID                   12457 non-null  int64         \n",
            " 3   datasource                12457 non-null  int64         \n",
            " 4   auctioneerID              12457 non-null  int64         \n",
            " 5   YearMade                  12457 non-null  int64         \n",
            " 6   MachineHoursCurrentMeter  2129 non-null   float64       \n",
            " 7   UsageBand                 1834 non-null   object        \n",
            " 8   saledate                  12457 non-null  datetime64[ns]\n",
            " 9   fiModelDesc               12457 non-null  object        \n",
            " 10  fiBaseModel               12457 non-null  object        \n",
            " 11  fiSecondaryDesc           8482 non-null   object        \n",
            " 12  fiModelSeries             2006 non-null   object        \n",
            " 13  fiModelDescriptor         3024 non-null   object        \n",
            " 14  ProductSize               6048 non-null   object        \n",
            " 15  fiProductClassDesc        12457 non-null  object        \n",
            " 16  state                     12457 non-null  object        \n",
            " 17  ProductGroup              12457 non-null  object        \n",
            " 18  ProductGroupDesc          12457 non-null  object        \n",
            " 19  Drive_System              2759 non-null   object        \n",
            " 20  Enclosure                 12455 non-null  object        \n",
            " 21  Forks                     6308 non-null   object        \n",
            " 22  Pad_Type                  2108 non-null   object        \n",
            " 23  Ride_Control              4241 non-null   object        \n",
            " 24  Stick                     2108 non-null   object        \n",
            " 25  Transmission              4818 non-null   object        \n",
            " 26  Turbocharged              2108 non-null   object        \n",
            " 27  Blade_Extension           651 non-null    object        \n",
            " 28  Blade_Width               651 non-null    object        \n",
            " 29  Enclosure_Type            651 non-null    object        \n",
            " 30  Engine_Horsepower         651 non-null    object        \n",
            " 31  Hydraulics                10315 non-null  object        \n",
            " 32  Pushblock                 651 non-null    object        \n",
            " 33  Ripper                    2704 non-null   object        \n",
            " 34  Scarifier                 651 non-null    object        \n",
            " 35  Tip_Control               651 non-null    object        \n",
            " 36  Tire_Size                 2778 non-null   object        \n",
            " 37  Coupler                   7601 non-null   object        \n",
            " 38  Coupler_System            2066 non-null   object        \n",
            " 39  Grouser_Tracks            2066 non-null   object        \n",
            " 40  Hydraulics_Flow           2066 non-null   object        \n",
            " 41  Track_Type                3394 non-null   object        \n",
            " 42  Undercarriage_Pad_Width   3398 non-null   object        \n",
            " 43  Stick_Length              3394 non-null   object        \n",
            " 44  Thumb                     3395 non-null   object        \n",
            " 45  Pattern_Changer           3394 non-null   object        \n",
            " 46  Grouser_Type              3394 non-null   object        \n",
            " 47  Backhoe_Mounting          2051 non-null   object        \n",
            " 48  Blade_Type                2058 non-null   object        \n",
            " 49  Travel_Controls           2058 non-null   object        \n",
            " 50  Differential_Type         2129 non-null   object        \n",
            " 51  Steering_Controls         2129 non-null   object        \n",
            "dtypes: datetime64[ns](1), float64(1), int64(6), object(44)\n",
            "memory usage: 4.9+ MB\n"
          ],
          "name": "stdout"
        }
      ]
    },
    {
      "cell_type": "markdown",
      "metadata": {
        "id": "vrU7KHEJ0oWB"
      },
      "source": [
        "The test data is in raw format. But the model is trained on the preprocessed format.  \n",
        "So in order to predict from this test data, it must be processed to match the train data format."
      ]
    },
    {
      "cell_type": "code",
      "metadata": {
        "id": "t0Lqtmhw0Bt9"
      },
      "source": [
        "# create a function to do all the preprocessing to the test data\n",
        "def data_preprocessing(data):\n",
        "    # split datetime cloumn into day, month, year, day of week, day of year\n",
        "    data[\"SaleDay\"] = data[\"saledate\"].dt.day\n",
        "    data[\"SaleMonth\"] = data[\"saledate\"].dt.month\n",
        "    data[\"SaleYear\"] = data[\"saledate\"].dt.year\n",
        "    \n",
        "    # drop saledate column we don't need that anymore\n",
        "    data.drop(columns=\"saledate\", inplace=True)\n",
        "\n",
        "   # loop to check and fill numeric missing values with median value\n",
        "    for col_name, content in data.items():\n",
        "        if pd.api.types.is_numeric_dtype(content):\n",
        "            if pd.isna(content).sum():\n",
        "                # creating a column to check whether the value in that column is a filled value or not\n",
        "                data[col_name+\"_is_missing\"] = content.isna()\n",
        "                # fill missing values\n",
        "                data[col_name].fillna(content.median(), inplace=True)\n",
        "\n",
        "    # Turn categorical variables into numbers\n",
        "    for col_name, content in data.items():\n",
        "        # Check columns which *aren't* numeric\n",
        "        if not pd.api.types.is_numeric_dtype(content):\n",
        "            # check non-numeric columns with missing values\n",
        "            if pd.isna(content).sum():\n",
        "                # Add a column to inidicate whether sample had missing value\n",
        "                data[col_name+\"_is_missing\"] = content.isna()\n",
        "            # filing and converting values outside of (second)if block so all categorical columns get converted\n",
        "            data[col_name] = pd.Categorical(content).codes+1\n",
        "            # accessing \"content\" values' \"Categorical\" form and their \"codes\" and adding \"+1\"\n",
        "            ## Categoric form fills \"-1\" for missing values, so adding \"+1\" means filling missing values with '+ve' numbers\n",
        "    \n",
        "    return data"
      ],
      "execution_count": 42,
      "outputs": []
    },
    {
      "cell_type": "code",
      "metadata": {
        "colab": {
          "base_uri": "https://localhost:8080/"
        },
        "id": "85Hasf2X2qIK",
        "outputId": "3ead6be3-ea4e-4d87-8768-9a872d3e80e1"
      },
      "source": [
        "# Preprocessing the Test data\n",
        "X_test = data_preprocessing(test_data)\n",
        "# check everything is okay\n",
        "X_test.info()"
      ],
      "execution_count": 43,
      "outputs": [
        {
          "output_type": "stream",
          "text": [
            "<class 'pandas.core.frame.DataFrame'>\n",
            "RangeIndex: 12457 entries, 0 to 12456\n",
            "Data columns (total 93 columns):\n",
            " #   Column                               Non-Null Count  Dtype  \n",
            "---  ------                               --------------  -----  \n",
            " 0   SalesID                              12457 non-null  int64  \n",
            " 1   MachineID                            12457 non-null  int64  \n",
            " 2   ModelID                              12457 non-null  int64  \n",
            " 3   datasource                           12457 non-null  int64  \n",
            " 4   auctioneerID                         12457 non-null  int64  \n",
            " 5   YearMade                             12457 non-null  int64  \n",
            " 6   MachineHoursCurrentMeter             12457 non-null  float64\n",
            " 7   UsageBand                            12457 non-null  int8   \n",
            " 8   fiModelDesc                          12457 non-null  int16  \n",
            " 9   fiBaseModel                          12457 non-null  int16  \n",
            " 10  fiSecondaryDesc                      12457 non-null  int8   \n",
            " 11  fiModelSeries                        12457 non-null  int8   \n",
            " 12  fiModelDescriptor                    12457 non-null  int8   \n",
            " 13  ProductSize                          12457 non-null  int8   \n",
            " 14  fiProductClassDesc                   12457 non-null  int8   \n",
            " 15  state                                12457 non-null  int8   \n",
            " 16  ProductGroup                         12457 non-null  int8   \n",
            " 17  ProductGroupDesc                     12457 non-null  int8   \n",
            " 18  Drive_System                         12457 non-null  int8   \n",
            " 19  Enclosure                            12457 non-null  int8   \n",
            " 20  Forks                                12457 non-null  int8   \n",
            " 21  Pad_Type                             12457 non-null  int8   \n",
            " 22  Ride_Control                         12457 non-null  int8   \n",
            " 23  Stick                                12457 non-null  int8   \n",
            " 24  Transmission                         12457 non-null  int8   \n",
            " 25  Turbocharged                         12457 non-null  int8   \n",
            " 26  Blade_Extension                      12457 non-null  int8   \n",
            " 27  Blade_Width                          12457 non-null  int8   \n",
            " 28  Enclosure_Type                       12457 non-null  int8   \n",
            " 29  Engine_Horsepower                    12457 non-null  int8   \n",
            " 30  Hydraulics                           12457 non-null  int8   \n",
            " 31  Pushblock                            12457 non-null  int8   \n",
            " 32  Ripper                               12457 non-null  int8   \n",
            " 33  Scarifier                            12457 non-null  int8   \n",
            " 34  Tip_Control                          12457 non-null  int8   \n",
            " 35  Tire_Size                            12457 non-null  int8   \n",
            " 36  Coupler                              12457 non-null  int8   \n",
            " 37  Coupler_System                       12457 non-null  int8   \n",
            " 38  Grouser_Tracks                       12457 non-null  int8   \n",
            " 39  Hydraulics_Flow                      12457 non-null  int8   \n",
            " 40  Track_Type                           12457 non-null  int8   \n",
            " 41  Undercarriage_Pad_Width              12457 non-null  int8   \n",
            " 42  Stick_Length                         12457 non-null  int8   \n",
            " 43  Thumb                                12457 non-null  int8   \n",
            " 44  Pattern_Changer                      12457 non-null  int8   \n",
            " 45  Grouser_Type                         12457 non-null  int8   \n",
            " 46  Backhoe_Mounting                     12457 non-null  int8   \n",
            " 47  Blade_Type                           12457 non-null  int8   \n",
            " 48  Travel_Controls                      12457 non-null  int8   \n",
            " 49  Differential_Type                    12457 non-null  int8   \n",
            " 50  Steering_Controls                    12457 non-null  int8   \n",
            " 51  SaleDay                              12457 non-null  int64  \n",
            " 52  SaleMonth                            12457 non-null  int64  \n",
            " 53  SaleYear                             12457 non-null  int64  \n",
            " 54  MachineHoursCurrentMeter_is_missing  12457 non-null  bool   \n",
            " 55  UsageBand_is_missing                 12457 non-null  bool   \n",
            " 56  fiSecondaryDesc_is_missing           12457 non-null  bool   \n",
            " 57  fiModelSeries_is_missing             12457 non-null  bool   \n",
            " 58  fiModelDescriptor_is_missing         12457 non-null  bool   \n",
            " 59  ProductSize_is_missing               12457 non-null  bool   \n",
            " 60  Drive_System_is_missing              12457 non-null  bool   \n",
            " 61  Enclosure_is_missing                 12457 non-null  bool   \n",
            " 62  Forks_is_missing                     12457 non-null  bool   \n",
            " 63  Pad_Type_is_missing                  12457 non-null  bool   \n",
            " 64  Ride_Control_is_missing              12457 non-null  bool   \n",
            " 65  Stick_is_missing                     12457 non-null  bool   \n",
            " 66  Transmission_is_missing              12457 non-null  bool   \n",
            " 67  Turbocharged_is_missing              12457 non-null  bool   \n",
            " 68  Blade_Extension_is_missing           12457 non-null  bool   \n",
            " 69  Blade_Width_is_missing               12457 non-null  bool   \n",
            " 70  Enclosure_Type_is_missing            12457 non-null  bool   \n",
            " 71  Engine_Horsepower_is_missing         12457 non-null  bool   \n",
            " 72  Hydraulics_is_missing                12457 non-null  bool   \n",
            " 73  Pushblock_is_missing                 12457 non-null  bool   \n",
            " 74  Ripper_is_missing                    12457 non-null  bool   \n",
            " 75  Scarifier_is_missing                 12457 non-null  bool   \n",
            " 76  Tip_Control_is_missing               12457 non-null  bool   \n",
            " 77  Tire_Size_is_missing                 12457 non-null  bool   \n",
            " 78  Coupler_is_missing                   12457 non-null  bool   \n",
            " 79  Coupler_System_is_missing            12457 non-null  bool   \n",
            " 80  Grouser_Tracks_is_missing            12457 non-null  bool   \n",
            " 81  Hydraulics_Flow_is_missing           12457 non-null  bool   \n",
            " 82  Track_Type_is_missing                12457 non-null  bool   \n",
            " 83  Undercarriage_Pad_Width_is_missing   12457 non-null  bool   \n",
            " 84  Stick_Length_is_missing              12457 non-null  bool   \n",
            " 85  Thumb_is_missing                     12457 non-null  bool   \n",
            " 86  Pattern_Changer_is_missing           12457 non-null  bool   \n",
            " 87  Grouser_Type_is_missing              12457 non-null  bool   \n",
            " 88  Backhoe_Mounting_is_missing          12457 non-null  bool   \n",
            " 89  Blade_Type_is_missing                12457 non-null  bool   \n",
            " 90  Travel_Controls_is_missing           12457 non-null  bool   \n",
            " 91  Differential_Type_is_missing         12457 non-null  bool   \n",
            " 92  Steering_Controls_is_missing         12457 non-null  bool   \n",
            "dtypes: bool(39), float64(1), int16(2), int64(9), int8(42)\n",
            "memory usage: 2.0 MB\n"
          ],
          "name": "stdout"
        }
      ]
    },
    {
      "cell_type": "code",
      "metadata": {
        "colab": {
          "base_uri": "https://localhost:8080/"
        },
        "id": "4jmw-d8622Qx",
        "outputId": "dd6d4b7a-c6ff-4c49-9c58-e289f1d855d7"
      },
      "source": [
        "# comparing the shapes of train and test data\n",
        "X_train.shape, X_test.shape"
      ],
      "execution_count": 44,
      "outputs": [
        {
          "output_type": "execute_result",
          "data": {
            "text/plain": [
              "((401125, 94), (12457, 93))"
            ]
          },
          "metadata": {
            "tags": []
          },
          "execution_count": 44
        }
      ]
    },
    {
      "cell_type": "code",
      "metadata": {
        "colab": {
          "base_uri": "https://localhost:8080/"
        },
        "id": "lD3EmXE5244V",
        "outputId": "86719d49-2a5e-4481-c862-382a1da0d941"
      },
      "source": [
        "# still one column is missing in the X_test\n",
        "## finding which column it is.\n",
        "set(X_train.columns) - set(X_test.columns)"
      ],
      "execution_count": 45,
      "outputs": [
        {
          "output_type": "execute_result",
          "data": {
            "text/plain": [
              "{'auctioneerID_is_missing'}"
            ]
          },
          "metadata": {
            "tags": []
          },
          "execution_count": 45
        }
      ]
    },
    {
      "cell_type": "markdown",
      "metadata": {
        "id": "AE0bD6QU5G63"
      },
      "source": [
        "In this case, it's because the test dataset wasn't missing any `auctioneerID` fields.\n",
        "\n",
        "To fix it, add a column to the test dataset called `auctioneerID_is_missing` and fill it with `False`, since none of the `auctioneerID` fields are missing in the test dataset."
      ]
    },
    {
      "cell_type": "code",
      "metadata": {
        "id": "HlVq7nr-49tn"
      },
      "source": [
        "X_test[\"auctioneerID_is_missing\"] = False"
      ],
      "execution_count": 46,
      "outputs": []
    },
    {
      "cell_type": "code",
      "metadata": {
        "colab": {
          "base_uri": "https://localhost:8080/"
        },
        "id": "PlQGzpH85a45",
        "outputId": "22c77622-3a10-40d6-cfcd-7de1caab7510"
      },
      "source": [
        "# comparing the shapes of train and test data\n",
        "X_train.shape, X_test.shape"
      ],
      "execution_count": 47,
      "outputs": [
        {
          "output_type": "execute_result",
          "data": {
            "text/plain": [
              "((401125, 94), (12457, 94))"
            ]
          },
          "metadata": {
            "tags": []
          },
          "execution_count": 47
        }
      ]
    },
    {
      "cell_type": "markdown",
      "metadata": {
        "id": "bpkoGXpr5duY"
      },
      "source": [
        "Now everything is good to go  \n",
        "\n",
        "### 6.2 Predicting the sale prices "
      ]
    },
    {
      "cell_type": "code",
      "metadata": {
        "id": "lzPVPEIg55kM"
      },
      "source": [
        "# Make predictions on the test dataset using the best model\n",
        "test_preds = best_model.predict(X_test)"
      ],
      "execution_count": 48,
      "outputs": []
    },
    {
      "cell_type": "markdown",
      "metadata": {
        "id": "LTkmxsyo6SET"
      },
      "source": [
        "When looking at the Kaggle submission requirements, to make a submission, the data is required to be in a certain format. Namely, a DataFrame containing the `SalesID` and the predicted `SalePrice` of the bulldozer.\n"
      ]
    },
    {
      "cell_type": "code",
      "metadata": {
        "colab": {
          "base_uri": "https://localhost:8080/",
          "height": 419
        },
        "id": "byQp4aIS6dT4",
        "outputId": "0e271964-b94b-4842-8a8e-80a12dbd203d"
      },
      "source": [
        "# Create DataFrame compatible with Kaggle submission requirements\n",
        "final_preds = pd.DataFrame()\n",
        "final_preds[\"SalesID\"] = test_data[\"SalesID\"]\n",
        "final_preds[\"SalesPrice\"] = test_preds\n",
        "final_preds"
      ],
      "execution_count": 49,
      "outputs": [
        {
          "output_type": "execute_result",
          "data": {
            "text/html": [
              "<div>\n",
              "<style scoped>\n",
              "    .dataframe tbody tr th:only-of-type {\n",
              "        vertical-align: middle;\n",
              "    }\n",
              "\n",
              "    .dataframe tbody tr th {\n",
              "        vertical-align: top;\n",
              "    }\n",
              "\n",
              "    .dataframe thead th {\n",
              "        text-align: right;\n",
              "    }\n",
              "</style>\n",
              "<table border=\"1\" class=\"dataframe\">\n",
              "  <thead>\n",
              "    <tr style=\"text-align: right;\">\n",
              "      <th></th>\n",
              "      <th>SalesID</th>\n",
              "      <th>SalesPrice</th>\n",
              "    </tr>\n",
              "  </thead>\n",
              "  <tbody>\n",
              "    <tr>\n",
              "      <th>0</th>\n",
              "      <td>1227829</td>\n",
              "      <td>21657.699583</td>\n",
              "    </tr>\n",
              "    <tr>\n",
              "      <th>1</th>\n",
              "      <td>1227844</td>\n",
              "      <td>22919.694529</td>\n",
              "    </tr>\n",
              "    <tr>\n",
              "      <th>2</th>\n",
              "      <td>1227847</td>\n",
              "      <td>49792.021585</td>\n",
              "    </tr>\n",
              "    <tr>\n",
              "      <th>3</th>\n",
              "      <td>1227848</td>\n",
              "      <td>85783.140663</td>\n",
              "    </tr>\n",
              "    <tr>\n",
              "      <th>4</th>\n",
              "      <td>1227863</td>\n",
              "      <td>51571.858054</td>\n",
              "    </tr>\n",
              "    <tr>\n",
              "      <th>...</th>\n",
              "      <td>...</td>\n",
              "      <td>...</td>\n",
              "    </tr>\n",
              "    <tr>\n",
              "      <th>12452</th>\n",
              "      <td>6643171</td>\n",
              "      <td>55694.247776</td>\n",
              "    </tr>\n",
              "    <tr>\n",
              "      <th>12453</th>\n",
              "      <td>6643173</td>\n",
              "      <td>11639.845687</td>\n",
              "    </tr>\n",
              "    <tr>\n",
              "      <th>12454</th>\n",
              "      <td>6643184</td>\n",
              "      <td>13206.011663</td>\n",
              "    </tr>\n",
              "    <tr>\n",
              "      <th>12455</th>\n",
              "      <td>6643186</td>\n",
              "      <td>19458.005721</td>\n",
              "    </tr>\n",
              "    <tr>\n",
              "      <th>12456</th>\n",
              "      <td>6643196</td>\n",
              "      <td>29573.872903</td>\n",
              "    </tr>\n",
              "  </tbody>\n",
              "</table>\n",
              "<p>12457 rows × 2 columns</p>\n",
              "</div>"
            ],
            "text/plain": [
              "       SalesID    SalesPrice\n",
              "0      1227829  21657.699583\n",
              "1      1227844  22919.694529\n",
              "2      1227847  49792.021585\n",
              "3      1227848  85783.140663\n",
              "4      1227863  51571.858054\n",
              "...        ...           ...\n",
              "12452  6643171  55694.247776\n",
              "12453  6643173  11639.845687\n",
              "12454  6643184  13206.011663\n",
              "12455  6643186  19458.005721\n",
              "12456  6643196  29573.872903\n",
              "\n",
              "[12457 rows x 2 columns]"
            ]
          },
          "metadata": {
            "tags": []
          },
          "execution_count": 49
        }
      ]
    },
    {
      "cell_type": "code",
      "metadata": {
        "id": "yOUYs8kx624H"
      },
      "source": [
        "# saving the predictions to a `.csv` file\n",
        "final_preds.to_csv(\"/content/drive/MyDrive/Colab Notebooks/bulldozer-price-prediction-data/Final_Predictions.csv\", index=False)"
      ],
      "execution_count": 50,
      "outputs": []
    },
    {
      "cell_type": "markdown",
      "metadata": {
        "id": "GkhX42at7YJt"
      },
      "source": [
        "## 7. Feature Importance\n",
        "\n",
        "Since the model is able to make predictions. It is good practice to analyze what parts of the data led to these predictions.\n",
        "\n",
        "This is where feature importance comes in. Feature importance seeks to figure out which different attributes of the data were most important when it comes to predicting the target variable.\n",
        "\n",
        "In this case, which bulldozer sale attributes were most important for predicting its overall sale price?\n",
        "\n",
        "To find which features were most important of a machine learning model, a good idea is to do research like searching something like \"[MODEL NAME] feature importance\".\n",
        "\n",
        "Doing this for the `RandomForestRegressor` leads to the `feature_importances_` attribute."
      ]
    },
    {
      "cell_type": "code",
      "metadata": {
        "colab": {
          "base_uri": "https://localhost:8080/"
        },
        "id": "Ay0ATEJv7JBx",
        "outputId": "e413b832-1c3f-4382-c56b-0cab43669c9c"
      },
      "source": [
        "# Find feature importance of the best model\n",
        "importances = best_model.feature_importances_\n",
        "importances"
      ],
      "execution_count": 51,
      "outputs": [
        {
          "output_type": "execute_result",
          "data": {
            "text/plain": [
              "array([4.83356751e-02, 1.31198710e-02, 3.23876762e-02, 1.95206752e-04,\n",
              "       3.51614494e-03, 2.71315125e-01, 2.61206598e-03, 8.60380800e-04,\n",
              "       1.98158401e-02, 8.30815336e-02, 5.29216311e-02, 4.23064347e-03,\n",
              "       3.42809825e-03, 2.36244117e-01, 4.12662158e-02, 6.98346780e-03,\n",
              "       1.67177366e-04, 1.78900799e-04, 1.75911172e-03, 8.82898078e-03,\n",
              "       3.36989888e-04, 2.77979813e-05, 4.75679745e-04, 1.69957040e-04,\n",
              "       1.37501345e-03, 2.06853191e-05, 1.82053688e-04, 6.01196419e-03,\n",
              "       1.17711963e-04, 3.73242901e-04, 3.72021023e-03, 2.12371425e-03,\n",
              "       2.14311328e-03, 3.46873735e-03, 1.42444436e-03, 1.45031075e-03,\n",
              "       7.54778120e-04, 1.43966759e-02, 5.41813484e-06, 4.62288739e-06,\n",
              "       1.62809553e-04, 9.31662613e-04, 9.90334170e-04, 6.17181107e-04,\n",
              "       1.79807760e-04, 3.44260844e-04, 2.40980373e-04, 1.50287230e-03,\n",
              "       8.75809791e-04, 1.36473400e-04, 1.71096114e-04, 6.70520912e-03,\n",
              "       9.45109670e-03, 7.77407301e-02, 2.30721832e-04, 3.47507104e-04,\n",
              "       1.24754713e-04, 7.66781008e-04, 6.43774445e-04, 6.99167508e-04,\n",
              "       3.25912889e-03, 1.28797014e-05, 3.54257460e-06, 4.02715737e-05,\n",
              "       2.19652064e-06, 3.87962820e-05, 2.96949695e-06, 1.15447459e-04,\n",
              "       1.85038359e-06, 1.59172777e-04, 2.44539014e-05, 2.14629449e-05,\n",
              "       1.80296622e-05, 1.97575398e-03, 1.68110398e-04, 1.13563737e-04,\n",
              "       3.18921294e-03, 1.60790875e-04, 3.87655672e-04, 8.43888549e-05,\n",
              "       1.69176879e-02, 6.62220635e-06, 1.51966387e-06, 1.81676289e-05,\n",
              "       2.44372743e-05, 1.71931619e-05, 2.69482262e-05, 1.91764082e-05,\n",
              "       2.19729044e-05, 2.39507430e-04, 7.66577858e-05, 6.64441259e-05,\n",
              "       3.95371285e-05, 5.04345857e-05])"
            ]
          },
          "metadata": {
            "tags": []
          },
          "execution_count": 51
        }
      ]
    },
    {
      "cell_type": "code",
      "metadata": {
        "colab": {
          "base_uri": "https://localhost:8080/"
        },
        "id": "8bX9Y7Kp-x94",
        "outputId": "a72f80b9-b899-4c23-e6c0-1322c4f59a74"
      },
      "source": [
        "# overall sum of importances\n",
        "sum(importances)"
      ],
      "execution_count": 52,
      "outputs": [
        {
          "output_type": "execute_result",
          "data": {
            "text/plain": [
              "1.0000000000000002"
            ]
          },
          "metadata": {
            "tags": []
          },
          "execution_count": 52
        }
      ]
    },
    {
      "cell_type": "code",
      "metadata": {
        "colab": {
          "base_uri": "https://localhost:8080/",
          "height": 419
        },
        "id": "EUTCUDbj_Amz",
        "outputId": "b95f0df0-b767-4f0a-de57-0d5dc2ab3f20"
      },
      "source": [
        "# creating a DataFrame to plot\n",
        "feat_imp = pd.DataFrame({\"Features\": X_train.columns,\n",
        "                         \"Feature Importances\": importances}).sort_values(by=\"Feature Importances\", ascending=False)\n",
        "feat_imp"
      ],
      "execution_count": 53,
      "outputs": [
        {
          "output_type": "execute_result",
          "data": {
            "text/html": [
              "<div>\n",
              "<style scoped>\n",
              "    .dataframe tbody tr th:only-of-type {\n",
              "        vertical-align: middle;\n",
              "    }\n",
              "\n",
              "    .dataframe tbody tr th {\n",
              "        vertical-align: top;\n",
              "    }\n",
              "\n",
              "    .dataframe thead th {\n",
              "        text-align: right;\n",
              "    }\n",
              "</style>\n",
              "<table border=\"1\" class=\"dataframe\">\n",
              "  <thead>\n",
              "    <tr style=\"text-align: right;\">\n",
              "      <th></th>\n",
              "      <th>Features</th>\n",
              "      <th>Feature Importances</th>\n",
              "    </tr>\n",
              "  </thead>\n",
              "  <tbody>\n",
              "    <tr>\n",
              "      <th>5</th>\n",
              "      <td>YearMade</td>\n",
              "      <td>0.271315</td>\n",
              "    </tr>\n",
              "    <tr>\n",
              "      <th>13</th>\n",
              "      <td>ProductSize</td>\n",
              "      <td>0.236244</td>\n",
              "    </tr>\n",
              "    <tr>\n",
              "      <th>9</th>\n",
              "      <td>fiBaseModel</td>\n",
              "      <td>0.083082</td>\n",
              "    </tr>\n",
              "    <tr>\n",
              "      <th>53</th>\n",
              "      <td>SaleYear</td>\n",
              "      <td>0.077741</td>\n",
              "    </tr>\n",
              "    <tr>\n",
              "      <th>10</th>\n",
              "      <td>fiSecondaryDesc</td>\n",
              "      <td>0.052922</td>\n",
              "    </tr>\n",
              "    <tr>\n",
              "      <th>...</th>\n",
              "      <td>...</td>\n",
              "      <td>...</td>\n",
              "    </tr>\n",
              "    <tr>\n",
              "      <th>62</th>\n",
              "      <td>Enclosure_is_missing</td>\n",
              "      <td>0.000004</td>\n",
              "    </tr>\n",
              "    <tr>\n",
              "      <th>66</th>\n",
              "      <td>Stick_is_missing</td>\n",
              "      <td>0.000003</td>\n",
              "    </tr>\n",
              "    <tr>\n",
              "      <th>64</th>\n",
              "      <td>Pad_Type_is_missing</td>\n",
              "      <td>0.000002</td>\n",
              "    </tr>\n",
              "    <tr>\n",
              "      <th>68</th>\n",
              "      <td>Turbocharged_is_missing</td>\n",
              "      <td>0.000002</td>\n",
              "    </tr>\n",
              "    <tr>\n",
              "      <th>82</th>\n",
              "      <td>Hydraulics_Flow_is_missing</td>\n",
              "      <td>0.000002</td>\n",
              "    </tr>\n",
              "  </tbody>\n",
              "</table>\n",
              "<p>94 rows × 2 columns</p>\n",
              "</div>"
            ],
            "text/plain": [
              "                      Features  Feature Importances\n",
              "5                     YearMade             0.271315\n",
              "13                 ProductSize             0.236244\n",
              "9                  fiBaseModel             0.083082\n",
              "53                    SaleYear             0.077741\n",
              "10             fiSecondaryDesc             0.052922\n",
              "..                         ...                  ...\n",
              "62        Enclosure_is_missing             0.000004\n",
              "66            Stick_is_missing             0.000003\n",
              "64         Pad_Type_is_missing             0.000002\n",
              "68     Turbocharged_is_missing             0.000002\n",
              "82  Hydraulics_Flow_is_missing             0.000002\n",
              "\n",
              "[94 rows x 2 columns]"
            ]
          },
          "metadata": {
            "tags": []
          },
          "execution_count": 53
        }
      ]
    },
    {
      "cell_type": "code",
      "metadata": {
        "colab": {
          "base_uri": "https://localhost:8080/",
          "height": 581
        },
        "id": "bHTRmKBWFRcV",
        "outputId": "0eaa672f-4853-417a-e2ad-23d31764c14c"
      },
      "source": [
        "# plotting bar graph using Seaborn\n",
        "# create figure\n",
        "fig, ax = plt.subplots(figsize=(9, 9))\n",
        "# set font size\n",
        "sns.set(font_scale=1.3)\n",
        "# create barplot\n",
        "sns.barplot(data=feat_imp[:20], # using only 20 top features\n",
        "            x=\"Feature Importances\",\n",
        "            y=\"Features\",\n",
        "            ax=ax,)\n",
        "# title\n",
        "ax.set_title(\"Feature importances of the trained model\")\n",
        "\n",
        "plt.show()"
      ],
      "execution_count": 82,
      "outputs": [
        {
          "output_type": "display_data",
          "data": {
            "image/png": "[encoded data removed]",
            "text/plain": [
              "<Figure size 648x648 with 1 Axes>"
            ]
          },
          "metadata": {
            "tags": []
          }
        }
      ]
    },
    {
      "cell_type": "markdown",
      "metadata": {
        "id": "gd692mrU-xVo"
      },
      "source": [
        "## 8. Further Experimentation & Analysis\n",
        "\n",
        "The concepts explored in this notebook for this particular dataset & problem statement are very few & basic; But These are the common and potentially important things to do when exploring a structured dataset.  \n",
        "\n",
        "In addition to these, the other ideas or concepts can be used to utilize this data and extract more insights.  \n",
        "In this case, the trained machine learning model can be improved.  \n",
        "There are various ways to do so, such as,\n",
        "\n",
        "- Generally, Collecting more data would be very useful.\n",
        "- Trying different algorithms to build a better model.\n",
        "- More research & trying different hyperparameters for tuning the current model.\n",
        "\n",
        "Spending more time to understand the problem and data helps, ALWAYS.  \n",
        "Consulting a subject matter export(SEM) on the data would be great to see all the information in a productive way with the domain knowledge.  \n",
        "\n",
        "As of now the model is achieving a reasonable RMSLE evaluation score as requested by Kaggle Bluebook for Bulldozers competition.  \n",
        "Since that competition is ended a while ago, can only compare the RMSLE score results in the leaderboard."
      ]
    },
    {
      "cell_type": "code",
      "metadata": {
        "id": "KpH-VMbrspA4"
      },
      "source": [
        ""
      ],
      "execution_count": null,
      "outputs": []
    }
  ]
}