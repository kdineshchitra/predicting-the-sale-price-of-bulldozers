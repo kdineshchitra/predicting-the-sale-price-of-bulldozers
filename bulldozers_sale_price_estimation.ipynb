{
  "nbformat": 4,
  "nbformat_minor": 0,
  "metadata": {
    "colab": {
      "name": "bulldozers-sale-price-estimation.ipynb",
      "provenance": [],
      "collapsed_sections": []
    },
    "kernelspec": {
      "name": "python3",
      "display_name": "Python 3"
    },
    "language_info": {
      "name": "python"
    }
  },
  "cells": [
    {
      "cell_type": "markdown",
      "metadata": {
        "id": "p6L9nQZxcYbB"
      },
      "source": [
        "# **Bulldozer sales price estimation using Machine Learning**\n",
        "This notebook explores some of the basic datascience and machine learning concepts by trying to solve the problem of Bulldozers sales price prediction.  \n",
        "Since the desired outcome here is an estimate of future sales price(predicting a number) this is a **Regression** problem.  \n",
        "\n",
        "**Problem statement:**  \n",
        "> Can the future sales price of a bulldozer be predicted the machine learning techniques and models?  \n",
        "\n",
        "**Data to solve the problem:**  \n",
        "The data is taken from the *Blue Book for Bulldozers Kaggle Competition*.[(link here)](https://www.kaggle.com/c/bluebook-for-bulldozers/data)  \n",
        "The data for this competition is split into three parts:\n",
        "\n",
        "1. Train.csv is the training set, which contains data through the end of 2011.\n",
        "2. Valid.csv is the validation set, which contains data from January 1, 2012 - April 30, 2012.\n",
        "3. Test.csv is the test set. It contains data from May 1, 2012 - November 2012.\n",
        "\n",
        "The key fields are in train.csv are:\n",
        "\n",
        "- SalesID: the uniue identifier of the sale\n",
        "- MachineID: the unique identifier of a machine.  A machine can be sold multiple times\n",
        "- saleprice: what the machine sold for at auction (only provided in train.csv)\n",
        "- saledate: the date of the sale  \n",
        "\n",
        "Since this data contains data points indexed in time order(in `saledate` feature), this dataset is a **Timeseries data.**\n",
        "\n",
        "Other than this there is a [data dictionary](https://drive.google.com/file/d/1qhPAQSFWw3rgpiMy88tMJInP0VGmoSj5/view?usp=sharing) provided with this dataset to understand more about the features of the data.  \n",
        "\n",
        "---\n",
        "\n",
        "## 0. Importing all necessary tools"
      ]
    },
    {
      "cell_type": "code",
      "metadata": {
        "id": "Ze8aRdYs9P1v"
      },
      "source": [
        "# Data analysis and plotting\n",
        "import numpy as np\n",
        "import pandas as pd\n",
        "import matplotlib.pyplot as plt\n",
        "import seaborn as sns\n",
        "\n",
        "# Regression models from Scikit-learn library\n",
        "from sklearn.ensemble import RandomForestRegressor\n",
        "\n",
        "# Model evaluation and experimentation\n",
        "from sklearn.metrics import mean_absolute_error, mean_squared_error, mean_squared_log_error, r2_score\n",
        "from sklearn.model_selection import RandomizedSearchCV, GridSearchCV, cross_val_score\n",
        "\n",
        "# saving the model\n",
        "import joblib"
      ],
      "execution_count": 1,
      "outputs": []
    },
    {
      "cell_type": "markdown",
      "metadata": {
        "id": "1bua-aBEostr"
      },
      "source": [
        "## 1. Data loading and EDA\n",
        "**Note:**  \n",
        "> Data files are downloaded from [kaggle competition page](https://www.kaggle.com/c/bluebook-for-bulldozers/data) and uploaded to google drive in order to import and use it here in this notebook.  \n",
        "Anyone can view the data folder used here, from this [link.](https://drive.google.com/drive/folders/1GzNp18zvT9JBbEsyjYSQnk_6mUecO6Aq?usp=sharing)  \n",
        "\n",
        "Loading the dataset from the data folder and saving it as Pandas DataFrame. Then perform some exploratory data analysis(EDA) on the saved DataFrame."
      ]
    },
    {
      "cell_type": "code",
      "metadata": {
        "id": "-IQPXjx3oq_A",
        "colab": {
          "base_uri": "https://localhost:8080/"
        },
        "outputId": "53153dac-8567-4d57-ba14-e7a3640a9d71"
      },
      "source": [
        "# importing data from google drive folder\n",
        "## since this is a timeseries data, the time feature need to be parsed into datetim object\n",
        "data = pd.read_csv(\"/content/drive/MyDrive/Colab Notebooks/bulldozer-price-prediction-data/TrainAndValid.csv\",\n",
        "                   parse_dates=[\"saledate\"])\n",
        "# back up the origianl data inorder to reuse it when data manipulation goes wrong\n",
        "original_data = data.copy()"
      ],
      "execution_count": 2,
      "outputs": [
        {
          "output_type": "stream",
          "text": [
            "/usr/local/lib/python3.7/dist-packages/IPython/core/interactiveshell.py:2718: DtypeWarning: Columns (13,39,40,41) have mixed types.Specify dtype option on import or set low_memory=False.\n",
            "  interactivity=interactivity, compiler=compiler, result=result)\n"
          ],
          "name": "stderr"
        }
      ]
    },
    {
      "cell_type": "code",
      "metadata": {
        "colab": {
          "base_uri": "https://localhost:8080/",
          "height": 360
        },
        "id": "xAYCQ8q-Qvth",
        "outputId": "7fdeb283-7e7b-44e4-be52-412bc360c51f"
      },
      "source": [
        "# little preview of the data\n",
        "data.head()"
      ],
      "execution_count": 3,
      "outputs": [
        {
          "output_type": "execute_result",
          "data": {
            "text/html": [
              "<div>\n",
              "<style scoped>\n",
              "    .dataframe tbody tr th:only-of-type {\n",
              "        vertical-align: middle;\n",
              "    }\n",
              "\n",
              "    .dataframe tbody tr th {\n",
              "        vertical-align: top;\n",
              "    }\n",
              "\n",
              "    .dataframe thead th {\n",
              "        text-align: right;\n",
              "    }\n",
              "</style>\n",
              "<table border=\"1\" class=\"dataframe\">\n",
              "  <thead>\n",
              "    <tr style=\"text-align: right;\">\n",
              "      <th></th>\n",
              "      <th>SalesID</th>\n",
              "      <th>SalePrice</th>\n",
              "      <th>MachineID</th>\n",
              "      <th>ModelID</th>\n",
              "      <th>datasource</th>\n",
              "      <th>auctioneerID</th>\n",
              "      <th>YearMade</th>\n",
              "      <th>MachineHoursCurrentMeter</th>\n",
              "      <th>UsageBand</th>\n",
              "      <th>saledate</th>\n",
              "      <th>fiModelDesc</th>\n",
              "      <th>fiBaseModel</th>\n",
              "      <th>fiSecondaryDesc</th>\n",
              "      <th>fiModelSeries</th>\n",
              "      <th>fiModelDescriptor</th>\n",
              "      <th>ProductSize</th>\n",
              "      <th>fiProductClassDesc</th>\n",
              "      <th>state</th>\n",
              "      <th>ProductGroup</th>\n",
              "      <th>ProductGroupDesc</th>\n",
              "      <th>Drive_System</th>\n",
              "      <th>Enclosure</th>\n",
              "      <th>Forks</th>\n",
              "      <th>Pad_Type</th>\n",
              "      <th>Ride_Control</th>\n",
              "      <th>Stick</th>\n",
              "      <th>Transmission</th>\n",
              "      <th>Turbocharged</th>\n",
              "      <th>Blade_Extension</th>\n",
              "      <th>Blade_Width</th>\n",
              "      <th>Enclosure_Type</th>\n",
              "      <th>Engine_Horsepower</th>\n",
              "      <th>Hydraulics</th>\n",
              "      <th>Pushblock</th>\n",
              "      <th>Ripper</th>\n",
              "      <th>Scarifier</th>\n",
              "      <th>Tip_Control</th>\n",
              "      <th>Tire_Size</th>\n",
              "      <th>Coupler</th>\n",
              "      <th>Coupler_System</th>\n",
              "      <th>Grouser_Tracks</th>\n",
              "      <th>Hydraulics_Flow</th>\n",
              "      <th>Track_Type</th>\n",
              "      <th>Undercarriage_Pad_Width</th>\n",
              "      <th>Stick_Length</th>\n",
              "      <th>Thumb</th>\n",
              "      <th>Pattern_Changer</th>\n",
              "      <th>Grouser_Type</th>\n",
              "      <th>Backhoe_Mounting</th>\n",
              "      <th>Blade_Type</th>\n",
              "      <th>Travel_Controls</th>\n",
              "      <th>Differential_Type</th>\n",
              "      <th>Steering_Controls</th>\n",
              "    </tr>\n",
              "  </thead>\n",
              "  <tbody>\n",
              "    <tr>\n",
              "      <th>0</th>\n",
              "      <td>1139246</td>\n",
              "      <td>66000.0</td>\n",
              "      <td>999089</td>\n",
              "      <td>3157</td>\n",
              "      <td>121</td>\n",
              "      <td>3.0</td>\n",
              "      <td>2004</td>\n",
              "      <td>68.0</td>\n",
              "      <td>Low</td>\n",
              "      <td>2006-11-16</td>\n",
              "      <td>521D</td>\n",
              "      <td>521</td>\n",
              "      <td>D</td>\n",
              "      <td>NaN</td>\n",
              "      <td>NaN</td>\n",
              "      <td>NaN</td>\n",
              "      <td>Wheel Loader - 110.0 to 120.0 Horsepower</td>\n",
              "      <td>Alabama</td>\n",
              "      <td>WL</td>\n",
              "      <td>Wheel Loader</td>\n",
              "      <td>NaN</td>\n",
              "      <td>EROPS w AC</td>\n",
              "      <td>None or Unspecified</td>\n",
              "      <td>NaN</td>\n",
              "      <td>None or Unspecified</td>\n",
              "      <td>NaN</td>\n",
              "      <td>NaN</td>\n",
              "      <td>NaN</td>\n",
              "      <td>NaN</td>\n",
              "      <td>NaN</td>\n",
              "      <td>NaN</td>\n",
              "      <td>NaN</td>\n",
              "      <td>2 Valve</td>\n",
              "      <td>NaN</td>\n",
              "      <td>NaN</td>\n",
              "      <td>NaN</td>\n",
              "      <td>NaN</td>\n",
              "      <td>None or Unspecified</td>\n",
              "      <td>None or Unspecified</td>\n",
              "      <td>NaN</td>\n",
              "      <td>NaN</td>\n",
              "      <td>NaN</td>\n",
              "      <td>NaN</td>\n",
              "      <td>NaN</td>\n",
              "      <td>NaN</td>\n",
              "      <td>NaN</td>\n",
              "      <td>NaN</td>\n",
              "      <td>NaN</td>\n",
              "      <td>NaN</td>\n",
              "      <td>NaN</td>\n",
              "      <td>NaN</td>\n",
              "      <td>Standard</td>\n",
              "      <td>Conventional</td>\n",
              "    </tr>\n",
              "    <tr>\n",
              "      <th>1</th>\n",
              "      <td>1139248</td>\n",
              "      <td>57000.0</td>\n",
              "      <td>117657</td>\n",
              "      <td>77</td>\n",
              "      <td>121</td>\n",
              "      <td>3.0</td>\n",
              "      <td>1996</td>\n",
              "      <td>4640.0</td>\n",
              "      <td>Low</td>\n",
              "      <td>2004-03-26</td>\n",
              "      <td>950FII</td>\n",
              "      <td>950</td>\n",
              "      <td>F</td>\n",
              "      <td>II</td>\n",
              "      <td>NaN</td>\n",
              "      <td>Medium</td>\n",
              "      <td>Wheel Loader - 150.0 to 175.0 Horsepower</td>\n",
              "      <td>North Carolina</td>\n",
              "      <td>WL</td>\n",
              "      <td>Wheel Loader</td>\n",
              "      <td>NaN</td>\n",
              "      <td>EROPS w AC</td>\n",
              "      <td>None or Unspecified</td>\n",
              "      <td>NaN</td>\n",
              "      <td>None or Unspecified</td>\n",
              "      <td>NaN</td>\n",
              "      <td>NaN</td>\n",
              "      <td>NaN</td>\n",
              "      <td>NaN</td>\n",
              "      <td>NaN</td>\n",
              "      <td>NaN</td>\n",
              "      <td>NaN</td>\n",
              "      <td>2 Valve</td>\n",
              "      <td>NaN</td>\n",
              "      <td>NaN</td>\n",
              "      <td>NaN</td>\n",
              "      <td>NaN</td>\n",
              "      <td>23.5</td>\n",
              "      <td>None or Unspecified</td>\n",
              "      <td>NaN</td>\n",
              "      <td>NaN</td>\n",
              "      <td>NaN</td>\n",
              "      <td>NaN</td>\n",
              "      <td>NaN</td>\n",
              "      <td>NaN</td>\n",
              "      <td>NaN</td>\n",
              "      <td>NaN</td>\n",
              "      <td>NaN</td>\n",
              "      <td>NaN</td>\n",
              "      <td>NaN</td>\n",
              "      <td>NaN</td>\n",
              "      <td>Standard</td>\n",
              "      <td>Conventional</td>\n",
              "    </tr>\n",
              "    <tr>\n",
              "      <th>2</th>\n",
              "      <td>1139249</td>\n",
              "      <td>10000.0</td>\n",
              "      <td>434808</td>\n",
              "      <td>7009</td>\n",
              "      <td>121</td>\n",
              "      <td>3.0</td>\n",
              "      <td>2001</td>\n",
              "      <td>2838.0</td>\n",
              "      <td>High</td>\n",
              "      <td>2004-02-26</td>\n",
              "      <td>226</td>\n",
              "      <td>226</td>\n",
              "      <td>NaN</td>\n",
              "      <td>NaN</td>\n",
              "      <td>NaN</td>\n",
              "      <td>NaN</td>\n",
              "      <td>Skid Steer Loader - 1351.0 to 1601.0 Lb Operat...</td>\n",
              "      <td>New York</td>\n",
              "      <td>SSL</td>\n",
              "      <td>Skid Steer Loaders</td>\n",
              "      <td>NaN</td>\n",
              "      <td>OROPS</td>\n",
              "      <td>None or Unspecified</td>\n",
              "      <td>NaN</td>\n",
              "      <td>NaN</td>\n",
              "      <td>NaN</td>\n",
              "      <td>NaN</td>\n",
              "      <td>NaN</td>\n",
              "      <td>NaN</td>\n",
              "      <td>NaN</td>\n",
              "      <td>NaN</td>\n",
              "      <td>NaN</td>\n",
              "      <td>Auxiliary</td>\n",
              "      <td>NaN</td>\n",
              "      <td>NaN</td>\n",
              "      <td>NaN</td>\n",
              "      <td>NaN</td>\n",
              "      <td>NaN</td>\n",
              "      <td>None or Unspecified</td>\n",
              "      <td>None or Unspecified</td>\n",
              "      <td>None or Unspecified</td>\n",
              "      <td>Standard</td>\n",
              "      <td>NaN</td>\n",
              "      <td>NaN</td>\n",
              "      <td>NaN</td>\n",
              "      <td>NaN</td>\n",
              "      <td>NaN</td>\n",
              "      <td>NaN</td>\n",
              "      <td>NaN</td>\n",
              "      <td>NaN</td>\n",
              "      <td>NaN</td>\n",
              "      <td>NaN</td>\n",
              "      <td>NaN</td>\n",
              "    </tr>\n",
              "    <tr>\n",
              "      <th>3</th>\n",
              "      <td>1139251</td>\n",
              "      <td>38500.0</td>\n",
              "      <td>1026470</td>\n",
              "      <td>332</td>\n",
              "      <td>121</td>\n",
              "      <td>3.0</td>\n",
              "      <td>2001</td>\n",
              "      <td>3486.0</td>\n",
              "      <td>High</td>\n",
              "      <td>2011-05-19</td>\n",
              "      <td>PC120-6E</td>\n",
              "      <td>PC120</td>\n",
              "      <td>NaN</td>\n",
              "      <td>-6E</td>\n",
              "      <td>NaN</td>\n",
              "      <td>Small</td>\n",
              "      <td>Hydraulic Excavator, Track - 12.0 to 14.0 Metr...</td>\n",
              "      <td>Texas</td>\n",
              "      <td>TEX</td>\n",
              "      <td>Track Excavators</td>\n",
              "      <td>NaN</td>\n",
              "      <td>EROPS w AC</td>\n",
              "      <td>NaN</td>\n",
              "      <td>NaN</td>\n",
              "      <td>NaN</td>\n",
              "      <td>NaN</td>\n",
              "      <td>NaN</td>\n",
              "      <td>NaN</td>\n",
              "      <td>NaN</td>\n",
              "      <td>NaN</td>\n",
              "      <td>NaN</td>\n",
              "      <td>NaN</td>\n",
              "      <td>2 Valve</td>\n",
              "      <td>NaN</td>\n",
              "      <td>NaN</td>\n",
              "      <td>NaN</td>\n",
              "      <td>NaN</td>\n",
              "      <td>NaN</td>\n",
              "      <td>None or Unspecified</td>\n",
              "      <td>NaN</td>\n",
              "      <td>NaN</td>\n",
              "      <td>NaN</td>\n",
              "      <td>NaN</td>\n",
              "      <td>NaN</td>\n",
              "      <td>NaN</td>\n",
              "      <td>NaN</td>\n",
              "      <td>NaN</td>\n",
              "      <td>NaN</td>\n",
              "      <td>NaN</td>\n",
              "      <td>NaN</td>\n",
              "      <td>NaN</td>\n",
              "      <td>NaN</td>\n",
              "      <td>NaN</td>\n",
              "    </tr>\n",
              "    <tr>\n",
              "      <th>4</th>\n",
              "      <td>1139253</td>\n",
              "      <td>11000.0</td>\n",
              "      <td>1057373</td>\n",
              "      <td>17311</td>\n",
              "      <td>121</td>\n",
              "      <td>3.0</td>\n",
              "      <td>2007</td>\n",
              "      <td>722.0</td>\n",
              "      <td>Medium</td>\n",
              "      <td>2009-07-23</td>\n",
              "      <td>S175</td>\n",
              "      <td>S175</td>\n",
              "      <td>NaN</td>\n",
              "      <td>NaN</td>\n",
              "      <td>NaN</td>\n",
              "      <td>NaN</td>\n",
              "      <td>Skid Steer Loader - 1601.0 to 1751.0 Lb Operat...</td>\n",
              "      <td>New York</td>\n",
              "      <td>SSL</td>\n",
              "      <td>Skid Steer Loaders</td>\n",
              "      <td>NaN</td>\n",
              "      <td>EROPS</td>\n",
              "      <td>None or Unspecified</td>\n",
              "      <td>NaN</td>\n",
              "      <td>NaN</td>\n",
              "      <td>NaN</td>\n",
              "      <td>NaN</td>\n",
              "      <td>NaN</td>\n",
              "      <td>NaN</td>\n",
              "      <td>NaN</td>\n",
              "      <td>NaN</td>\n",
              "      <td>NaN</td>\n",
              "      <td>Auxiliary</td>\n",
              "      <td>NaN</td>\n",
              "      <td>NaN</td>\n",
              "      <td>NaN</td>\n",
              "      <td>NaN</td>\n",
              "      <td>NaN</td>\n",
              "      <td>None or Unspecified</td>\n",
              "      <td>None or Unspecified</td>\n",
              "      <td>None or Unspecified</td>\n",
              "      <td>Standard</td>\n",
              "      <td>NaN</td>\n",
              "      <td>NaN</td>\n",
              "      <td>NaN</td>\n",
              "      <td>NaN</td>\n",
              "      <td>NaN</td>\n",
              "      <td>NaN</td>\n",
              "      <td>NaN</td>\n",
              "      <td>NaN</td>\n",
              "      <td>NaN</td>\n",
              "      <td>NaN</td>\n",
              "      <td>NaN</td>\n",
              "    </tr>\n",
              "  </tbody>\n",
              "</table>\n",
              "</div>"
            ],
            "text/plain": [
              "   SalesID  SalePrice  ...  Differential_Type  Steering_Controls\n",
              "0  1139246    66000.0  ...           Standard       Conventional\n",
              "1  1139248    57000.0  ...           Standard       Conventional\n",
              "2  1139249    10000.0  ...                NaN                NaN\n",
              "3  1139251    38500.0  ...                NaN                NaN\n",
              "4  1139253    11000.0  ...                NaN                NaN\n",
              "\n",
              "[5 rows x 53 columns]"
            ]
          },
          "metadata": {
            "tags": []
          },
          "execution_count": 3
        }
      ]
    },
    {
      "cell_type": "code",
      "metadata": {
        "id": "32Y-D2h-SZi1",
        "colab": {
          "base_uri": "https://localhost:8080/"
        },
        "outputId": "3419cf80-a733-4fe5-e52e-a389c161e932"
      },
      "source": [
        "# features in the data\n",
        "data.columns"
      ],
      "execution_count": 4,
      "outputs": [
        {
          "output_type": "execute_result",
          "data": {
            "text/plain": [
              "Index(['SalesID', 'SalePrice', 'MachineID', 'ModelID', 'datasource',\n",
              "       'auctioneerID', 'YearMade', 'MachineHoursCurrentMeter', 'UsageBand',\n",
              "       'saledate', 'fiModelDesc', 'fiBaseModel', 'fiSecondaryDesc',\n",
              "       'fiModelSeries', 'fiModelDescriptor', 'ProductSize',\n",
              "       'fiProductClassDesc', 'state', 'ProductGroup', 'ProductGroupDesc',\n",
              "       'Drive_System', 'Enclosure', 'Forks', 'Pad_Type', 'Ride_Control',\n",
              "       'Stick', 'Transmission', 'Turbocharged', 'Blade_Extension',\n",
              "       'Blade_Width', 'Enclosure_Type', 'Engine_Horsepower', 'Hydraulics',\n",
              "       'Pushblock', 'Ripper', 'Scarifier', 'Tip_Control', 'Tire_Size',\n",
              "       'Coupler', 'Coupler_System', 'Grouser_Tracks', 'Hydraulics_Flow',\n",
              "       'Track_Type', 'Undercarriage_Pad_Width', 'Stick_Length', 'Thumb',\n",
              "       'Pattern_Changer', 'Grouser_Type', 'Backhoe_Mounting', 'Blade_Type',\n",
              "       'Travel_Controls', 'Differential_Type', 'Steering_Controls'],\n",
              "      dtype='object')"
            ]
          },
          "metadata": {
            "tags": []
          },
          "execution_count": 4
        }
      ]
    },
    {
      "cell_type": "code",
      "metadata": {
        "colab": {
          "base_uri": "https://localhost:8080/"
        },
        "id": "57IS-0Gr23TN",
        "outputId": "343f3a5e-ac88-46f4-ee79-ad286f5ad4c2"
      },
      "source": [
        "# what type of data this dataset hold?\n",
        "data.dtypes"
      ],
      "execution_count": 5,
      "outputs": [
        {
          "output_type": "execute_result",
          "data": {
            "text/plain": [
              "SalesID                              int64\n",
              "SalePrice                          float64\n",
              "MachineID                            int64\n",
              "ModelID                              int64\n",
              "datasource                           int64\n",
              "auctioneerID                       float64\n",
              "YearMade                             int64\n",
              "MachineHoursCurrentMeter           float64\n",
              "UsageBand                           object\n",
              "saledate                    datetime64[ns]\n",
              "fiModelDesc                         object\n",
              "fiBaseModel                         object\n",
              "fiSecondaryDesc                     object\n",
              "fiModelSeries                       object\n",
              "fiModelDescriptor                   object\n",
              "ProductSize                         object\n",
              "fiProductClassDesc                  object\n",
              "state                               object\n",
              "ProductGroup                        object\n",
              "ProductGroupDesc                    object\n",
              "Drive_System                        object\n",
              "Enclosure                           object\n",
              "Forks                               object\n",
              "Pad_Type                            object\n",
              "Ride_Control                        object\n",
              "Stick                               object\n",
              "Transmission                        object\n",
              "Turbocharged                        object\n",
              "Blade_Extension                     object\n",
              "Blade_Width                         object\n",
              "Enclosure_Type                      object\n",
              "Engine_Horsepower                   object\n",
              "Hydraulics                          object\n",
              "Pushblock                           object\n",
              "Ripper                              object\n",
              "Scarifier                           object\n",
              "Tip_Control                         object\n",
              "Tire_Size                           object\n",
              "Coupler                             object\n",
              "Coupler_System                      object\n",
              "Grouser_Tracks                      object\n",
              "Hydraulics_Flow                     object\n",
              "Track_Type                          object\n",
              "Undercarriage_Pad_Width             object\n",
              "Stick_Length                        object\n",
              "Thumb                               object\n",
              "Pattern_Changer                     object\n",
              "Grouser_Type                        object\n",
              "Backhoe_Mounting                    object\n",
              "Blade_Type                          object\n",
              "Travel_Controls                     object\n",
              "Differential_Type                   object\n",
              "Steering_Controls                   object\n",
              "dtype: object"
            ]
          },
          "metadata": {
            "tags": []
          },
          "execution_count": 5
        }
      ]
    },
    {
      "cell_type": "code",
      "metadata": {
        "colab": {
          "base_uri": "https://localhost:8080/"
        },
        "id": "1lWnhWbj3dlI",
        "outputId": "50b8b0c2-bf80-41d2-9c1b-9b52e261bb55"
      },
      "source": [
        "# are there any missing values?\n",
        "data.isna().sum()"
      ],
      "execution_count": 6,
      "outputs": [
        {
          "output_type": "execute_result",
          "data": {
            "text/plain": [
              "SalesID                          0\n",
              "SalePrice                        0\n",
              "MachineID                        0\n",
              "ModelID                          0\n",
              "datasource                       0\n",
              "auctioneerID                 20136\n",
              "YearMade                         0\n",
              "MachineHoursCurrentMeter    265194\n",
              "UsageBand                   339028\n",
              "saledate                         0\n",
              "fiModelDesc                      0\n",
              "fiBaseModel                      0\n",
              "fiSecondaryDesc             140727\n",
              "fiModelSeries               354031\n",
              "fiModelDescriptor           337882\n",
              "ProductSize                 216605\n",
              "fiProductClassDesc               0\n",
              "state                            0\n",
              "ProductGroup                     0\n",
              "ProductGroupDesc                 0\n",
              "Drive_System                305611\n",
              "Enclosure                      334\n",
              "Forks                       214983\n",
              "Pad_Type                    331602\n",
              "Ride_Control                259970\n",
              "Stick                       331602\n",
              "Transmission                224691\n",
              "Turbocharged                331602\n",
              "Blade_Extension             386715\n",
              "Blade_Width                 386715\n",
              "Enclosure_Type              386715\n",
              "Engine_Horsepower           386715\n",
              "Hydraulics                   82565\n",
              "Pushblock                   386715\n",
              "Ripper                      305753\n",
              "Scarifier                   386704\n",
              "Tip_Control                 386715\n",
              "Tire_Size                   315060\n",
              "Coupler                     192019\n",
              "Coupler_System              367724\n",
              "Grouser_Tracks              367823\n",
              "Hydraulics_Flow             367823\n",
              "Track_Type                  310505\n",
              "Undercarriage_Pad_Width     309782\n",
              "Stick_Length                310437\n",
              "Thumb                       310366\n",
              "Pattern_Changer             310437\n",
              "Grouser_Type                310505\n",
              "Backhoe_Mounting            331986\n",
              "Blade_Type                  330823\n",
              "Travel_Controls             330821\n",
              "Differential_Type           341134\n",
              "Steering_Controls           341176\n",
              "dtype: int64"
            ]
          },
          "metadata": {
            "tags": []
          },
          "execution_count": 6
        }
      ]
    },
    {
      "cell_type": "markdown",
      "metadata": {
        "id": "-YkSD1jT3oaf"
      },
      "source": [
        "So there are (lot of) missing values in the dataset and all the values present are also not in numeric data type."
      ]
    },
    {
      "cell_type": "markdown",
      "metadata": {
        "id": "aCApFKnw41JY"
      },
      "source": [
        "### 1.1 Playing with the dataset by `saledate` feature"
      ]
    },
    {
      "cell_type": "code",
      "metadata": {
        "colab": {
          "base_uri": "https://localhost:8080/",
          "height": 265
        },
        "id": "GsGxWih4_Q_y",
        "outputId": "2ddf731e-9868-45df-83da-6c97bc7c7cc2"
      },
      "source": [
        "# visualizing the spread of saleprice over the saleyear\n",
        "fig, ax = plt.subplots()\n",
        "ax.scatter(data[\"saledate\"][:1000], data[\"SalePrice\"][:1000]);"
      ],
      "execution_count": 10,
      "outputs": [
        {
          "output_type": "display_data",
          "data": {
            "image/png": "[encoded data removed]",
            "text/plain": [
              "<Figure size 432x288 with 1 Axes>"
            ]
          },
          "metadata": {
            "tags": [],
            "needs_background": "light"
          }
        }
      ]
    },
    {
      "cell_type": "code",
      "metadata": {
        "colab": {
          "base_uri": "https://localhost:8080/",
          "height": 265
        },
        "id": "hcO4d7vk_SMq",
        "outputId": "cf7b9004-57c2-490a-d3ea-1aaf0d4b2bcb"
      },
      "source": [
        "# looking the SalePrice distribution\n",
        "data[\"SalePrice\"].plot.hist();"
      ],
      "execution_count": 11,
      "outputs": [
        {
          "output_type": "display_data",
          "data": {
            "image/png": "[encoded data removed]",
            "text/plain": [
              "<Figure size 432x288 with 1 Axes>"
            ]
          },
          "metadata": {
            "tags": [],
            "needs_background": "light"
          }
        }
      ]
    },
    {
      "cell_type": "code",
      "metadata": {
        "colab": {
          "base_uri": "https://localhost:8080/"
        },
        "id": "tDzGK6Z04ZP6",
        "outputId": "3efd9e69-b723-4261-ed7f-b77d6e91056f"
      },
      "source": [
        "# viewing the time stamp data\n",
        "data[\"saledate\"]"
      ],
      "execution_count": 12,
      "outputs": [
        {
          "output_type": "execute_result",
          "data": {
            "text/plain": [
              "0        2006-11-16\n",
              "1        2004-03-26\n",
              "2        2004-02-26\n",
              "3        2011-05-19\n",
              "4        2009-07-23\n",
              "            ...    \n",
              "412693   2012-03-07\n",
              "412694   2012-01-28\n",
              "412695   2012-01-28\n",
              "412696   2012-03-07\n",
              "412697   2012-01-28\n",
              "Name: saledate, Length: 412698, dtype: datetime64[ns]"
            ]
          },
          "metadata": {
            "tags": []
          },
          "execution_count": 12
        }
      ]
    },
    {
      "cell_type": "markdown",
      "metadata": {
        "id": "LdmDtEsQ5urI"
      },
      "source": [
        "The time series data is not sorted"
      ]
    },
    {
      "cell_type": "code",
      "metadata": {
        "id": "xp5m1fK_5nl5"
      },
      "source": [
        "# sort the examples by dateime order\n",
        "data.sort_values(by=\"saledate\", inplace=True)"
      ],
      "execution_count": 13,
      "outputs": []
    },
    {
      "cell_type": "code",
      "metadata": {
        "id": "QRJy7sxm6jib"
      },
      "source": [
        "# creating date, month and year columns from saledate column\n",
        "## since the saledate column is as pandas.datatime object, the different datetime attributes can be accessed\n",
        "data[\"SaleDay\"] = data[\"saledate\"].dt.day\n",
        "data[\"SaleMonth\"] = data[\"saledate\"].dt.month\n",
        "data[\"SaleYear\"] = data[\"saledate\"].dt.year"
      ],
      "execution_count": 14,
      "outputs": []
    },
    {
      "cell_type": "code",
      "metadata": {
        "id": "SemcpPhJ844w"
      },
      "source": [
        "# dropping saledate column as there is no need that anymore\n",
        "data.drop(columns=\"saledate\", inplace=True)"
      ],
      "execution_count": 15,
      "outputs": []
    },
    {
      "cell_type": "markdown",
      "metadata": {
        "id": "j44HLqXvBSW0"
      },
      "source": [
        "### 1.2 Filling missing values & Converting non-numeric dtypes to numeric\n",
        "Need to rectify missing values and non-numeric values problems in the dataset before modeling\n",
        "#### 1.2.1 Changing Object dtype data into Pandas Categorical Datatype"
      ]
    },
    {
      "cell_type": "code",
      "metadata": {
        "id": "FpXMA7tM-5Gw"
      },
      "source": [
        "# loop to check and convert string data into Pandas categorical data\n",
        "for col_name, content in data.items():\n",
        "    if pd.api.types.is_string_dtype(content):\n",
        "        data[col_name] = content.astype(\"category\").cat.as_ordered()"
      ],
      "execution_count": 16,
      "outputs": []
    },
    {
      "cell_type": "code",
      "metadata": {
        "colab": {
          "base_uri": "https://localhost:8080/"
        },
        "id": "P-CeiU8LDFSp",
        "outputId": "20904796-2c15-4bd2-d985-127ea4a13639"
      },
      "source": [
        "# checking the conversion\n",
        "data.dtypes"
      ],
      "execution_count": 17,
      "outputs": [
        {
          "output_type": "execute_result",
          "data": {
            "text/plain": [
              "SalesID                        int64\n",
              "SalePrice                    float64\n",
              "MachineID                      int64\n",
              "ModelID                        int64\n",
              "datasource                     int64\n",
              "auctioneerID                 float64\n",
              "YearMade                       int64\n",
              "MachineHoursCurrentMeter     float64\n",
              "UsageBand                   category\n",
              "fiModelDesc                 category\n",
              "fiBaseModel                 category\n",
              "fiSecondaryDesc             category\n",
              "fiModelSeries               category\n",
              "fiModelDescriptor           category\n",
              "ProductSize                 category\n",
              "fiProductClassDesc          category\n",
              "state                       category\n",
              "ProductGroup                category\n",
              "ProductGroupDesc            category\n",
              "Drive_System                category\n",
              "Enclosure                   category\n",
              "Forks                       category\n",
              "Pad_Type                    category\n",
              "Ride_Control                category\n",
              "Stick                       category\n",
              "Transmission                category\n",
              "Turbocharged                category\n",
              "Blade_Extension             category\n",
              "Blade_Width                 category\n",
              "Enclosure_Type              category\n",
              "Engine_Horsepower           category\n",
              "Hydraulics                  category\n",
              "Pushblock                   category\n",
              "Ripper                      category\n",
              "Scarifier                   category\n",
              "Tip_Control                 category\n",
              "Tire_Size                   category\n",
              "Coupler                     category\n",
              "Coupler_System              category\n",
              "Grouser_Tracks              category\n",
              "Hydraulics_Flow             category\n",
              "Track_Type                  category\n",
              "Undercarriage_Pad_Width     category\n",
              "Stick_Length                category\n",
              "Thumb                       category\n",
              "Pattern_Changer             category\n",
              "Grouser_Type                category\n",
              "Backhoe_Mounting            category\n",
              "Blade_Type                  category\n",
              "Travel_Controls             category\n",
              "Differential_Type           category\n",
              "Steering_Controls           category\n",
              "SaleDay                        int64\n",
              "SaleMonth                      int64\n",
              "SaleYear                       int64\n",
              "dtype: object"
            ]
          },
          "metadata": {
            "tags": []
          },
          "execution_count": 17
        }
      ]
    },
    {
      "cell_type": "markdown",
      "metadata": {
        "id": "aDhuR-_lDfeY"
      },
      "source": [
        "#### 1.2.2 Filling numeric missing values with median value"
      ]
    },
    {
      "cell_type": "code",
      "metadata": {
        "id": "_99V6NDvDIYl"
      },
      "source": [
        "# loop to check and fill numeric missing values with median value\n",
        "for col_name, content in data.items():\n",
        "    if pd.api.types.is_numeric_dtype(content):\n",
        "        if pd.isna(content).sum():\n",
        "            # creating a column to check whether the value in that column is a filled value or not\n",
        "            data[col_name+\"_is_missing\"] = content.isna()\n",
        "            # fill missing values\n",
        "            data[col_name].fillna(content.median(), inplace=True)"
      ],
      "execution_count": 18,
      "outputs": []
    },
    {
      "cell_type": "markdown",
      "metadata": {
        "id": "-W0e2nAWD4k5"
      },
      "source": [
        "#### 1.2.3 Filling non-numeric(categorical) missing values and/by turning them into numbers"
      ]
    },
    {
      "cell_type": "code",
      "metadata": {
        "id": "Q6Pywdj8DwrX"
      },
      "source": [
        "# Turn categorical variables into numbers\n",
        "for col_name, content in data.items():\n",
        "    # Check columns which *aren't* numeric\n",
        "    if not pd.api.types.is_numeric_dtype(content):\n",
        "        # check non-numeric columns with missing values\n",
        "        if pd.isna(content).sum():\n",
        "            # Add a column to inidicate whether sample had missing value\n",
        "            data[col_name+\"_is_missing\"] = content.isna()\n",
        "        # filing and converting values outside of (second)if block so all categorical columns get converted\n",
        "        data[col_name] = pd.Categorical(content).codes+1\n",
        "        # accessing \"content\" values' \"Categorical\" form and their \"codes\" and adding \"+1\"\n",
        "        ## Categoric form fills \"-1\" for missing values, so adding \"+1\" means filling missing values with '+ve' numbers"
      ],
      "execution_count": 22,
      "outputs": []
    },
    {
      "cell_type": "code",
      "metadata": {
        "colab": {
          "base_uri": "https://localhost:8080/"
        },
        "id": "B0nXcgcwGJoc",
        "outputId": "ae195799-5930-4887-b380-cd6378616674"
      },
      "source": [
        "data.info()"
      ],
      "execution_count": 23,
      "outputs": [
        {
          "output_type": "stream",
          "text": [
            "<class 'pandas.core.frame.DataFrame'>\n",
            "Int64Index: 412698 entries, 205615 to 409203\n",
            "Data columns (total 95 columns):\n",
            " #   Column                               Non-Null Count   Dtype  \n",
            "---  ------                               --------------   -----  \n",
            " 0   SalesID                              412698 non-null  int64  \n",
            " 1   SalePrice                            412698 non-null  float64\n",
            " 2   MachineID                            412698 non-null  int64  \n",
            " 3   ModelID                              412698 non-null  int64  \n",
            " 4   datasource                           412698 non-null  int64  \n",
            " 5   auctioneerID                         412698 non-null  float64\n",
            " 6   YearMade                             412698 non-null  int64  \n",
            " 7   MachineHoursCurrentMeter             412698 non-null  float64\n",
            " 8   UsageBand                            412698 non-null  int8   \n",
            " 9   fiModelDesc                          412698 non-null  int16  \n",
            " 10  fiBaseModel                          412698 non-null  int16  \n",
            " 11  fiSecondaryDesc                      412698 non-null  int16  \n",
            " 12  fiModelSeries                        412698 non-null  int16  \n",
            " 13  fiModelDescriptor                    412698 non-null  int16  \n",
            " 14  ProductSize                          412698 non-null  int8   \n",
            " 15  fiProductClassDesc                   412698 non-null  int8   \n",
            " 16  state                                412698 non-null  int8   \n",
            " 17  ProductGroup                         412698 non-null  int8   \n",
            " 18  ProductGroupDesc                     412698 non-null  int8   \n",
            " 19  Drive_System                         412698 non-null  int8   \n",
            " 20  Enclosure                            412698 non-null  int8   \n",
            " 21  Forks                                412698 non-null  int8   \n",
            " 22  Pad_Type                             412698 non-null  int8   \n",
            " 23  Ride_Control                         412698 non-null  int8   \n",
            " 24  Stick                                412698 non-null  int8   \n",
            " 25  Transmission                         412698 non-null  int8   \n",
            " 26  Turbocharged                         412698 non-null  int8   \n",
            " 27  Blade_Extension                      412698 non-null  int8   \n",
            " 28  Blade_Width                          412698 non-null  int8   \n",
            " 29  Enclosure_Type                       412698 non-null  int8   \n",
            " 30  Engine_Horsepower                    412698 non-null  int8   \n",
            " 31  Hydraulics                           412698 non-null  int8   \n",
            " 32  Pushblock                            412698 non-null  int8   \n",
            " 33  Ripper                               412698 non-null  int8   \n",
            " 34  Scarifier                            412698 non-null  int8   \n",
            " 35  Tip_Control                          412698 non-null  int8   \n",
            " 36  Tire_Size                            412698 non-null  int8   \n",
            " 37  Coupler                              412698 non-null  int8   \n",
            " 38  Coupler_System                       412698 non-null  int8   \n",
            " 39  Grouser_Tracks                       412698 non-null  int8   \n",
            " 40  Hydraulics_Flow                      412698 non-null  int8   \n",
            " 41  Track_Type                           412698 non-null  int8   \n",
            " 42  Undercarriage_Pad_Width              412698 non-null  int8   \n",
            " 43  Stick_Length                         412698 non-null  int8   \n",
            " 44  Thumb                                412698 non-null  int8   \n",
            " 45  Pattern_Changer                      412698 non-null  int8   \n",
            " 46  Grouser_Type                         412698 non-null  int8   \n",
            " 47  Backhoe_Mounting                     412698 non-null  int8   \n",
            " 48  Blade_Type                           412698 non-null  int8   \n",
            " 49  Travel_Controls                      412698 non-null  int8   \n",
            " 50  Differential_Type                    412698 non-null  int8   \n",
            " 51  Steering_Controls                    412698 non-null  int8   \n",
            " 52  SaleDay                              412698 non-null  int64  \n",
            " 53  SaleMonth                            412698 non-null  int64  \n",
            " 54  SaleYear                             412698 non-null  int64  \n",
            " 55  auctioneerID_is_missing              412698 non-null  bool   \n",
            " 56  MachineHoursCurrentMeter_is_missing  412698 non-null  bool   \n",
            " 57  UsageBand_is_missing                 412698 non-null  bool   \n",
            " 58  fiSecondaryDesc_is_missing           412698 non-null  bool   \n",
            " 59  fiModelSeries_is_missing             412698 non-null  bool   \n",
            " 60  fiModelDescriptor_is_missing         412698 non-null  bool   \n",
            " 61  ProductSize_is_missing               412698 non-null  bool   \n",
            " 62  Drive_System_is_missing              412698 non-null  bool   \n",
            " 63  Enclosure_is_missing                 412698 non-null  bool   \n",
            " 64  Forks_is_missing                     412698 non-null  bool   \n",
            " 65  Pad_Type_is_missing                  412698 non-null  bool   \n",
            " 66  Ride_Control_is_missing              412698 non-null  bool   \n",
            " 67  Stick_is_missing                     412698 non-null  bool   \n",
            " 68  Transmission_is_missing              412698 non-null  bool   \n",
            " 69  Turbocharged_is_missing              412698 non-null  bool   \n",
            " 70  Blade_Extension_is_missing           412698 non-null  bool   \n",
            " 71  Blade_Width_is_missing               412698 non-null  bool   \n",
            " 72  Enclosure_Type_is_missing            412698 non-null  bool   \n",
            " 73  Engine_Horsepower_is_missing         412698 non-null  bool   \n",
            " 74  Hydraulics_is_missing                412698 non-null  bool   \n",
            " 75  Pushblock_is_missing                 412698 non-null  bool   \n",
            " 76  Ripper_is_missing                    412698 non-null  bool   \n",
            " 77  Scarifier_is_missing                 412698 non-null  bool   \n",
            " 78  Tip_Control_is_missing               412698 non-null  bool   \n",
            " 79  Tire_Size_is_missing                 412698 non-null  bool   \n",
            " 80  Coupler_is_missing                   412698 non-null  bool   \n",
            " 81  Coupler_System_is_missing            412698 non-null  bool   \n",
            " 82  Grouser_Tracks_is_missing            412698 non-null  bool   \n",
            " 83  Hydraulics_Flow_is_missing           412698 non-null  bool   \n",
            " 84  Track_Type_is_missing                412698 non-null  bool   \n",
            " 85  Undercarriage_Pad_Width_is_missing   412698 non-null  bool   \n",
            " 86  Stick_Length_is_missing              412698 non-null  bool   \n",
            " 87  Thumb_is_missing                     412698 non-null  bool   \n",
            " 88  Pattern_Changer_is_missing           412698 non-null  bool   \n",
            " 89  Grouser_Type_is_missing              412698 non-null  bool   \n",
            " 90  Backhoe_Mounting_is_missing          412698 non-null  bool   \n",
            " 91  Blade_Type_is_missing                412698 non-null  bool   \n",
            " 92  Travel_Controls_is_missing           412698 non-null  bool   \n",
            " 93  Differential_Type_is_missing         412698 non-null  bool   \n",
            " 94  Steering_Controls_is_missing         412698 non-null  bool   \n",
            "dtypes: bool(40), float64(3), int16(5), int64(8), int8(39)\n",
            "memory usage: 72.8 MB\n"
          ],
          "name": "stdout"
        }
      ]
    },
    {
      "cell_type": "markdown",
      "metadata": {
        "id": "6GE3UIVoHNEj"
      },
      "source": [
        "#### 1.2.4 Now we save the current preprocessed dataset into a new `.csv` file"
      ]
    },
    {
      "cell_type": "code",
      "metadata": {
        "id": "Gg268zflGQNv"
      },
      "source": [
        "data.to_csv(\"/content/drive/MyDrive/Colab Notebooks/bulldozer-price-prediction-data/processed_data.csv\", index=False)"
      ],
      "execution_count": 24,
      "outputs": []
    },
    {
      "cell_type": "code",
      "metadata": {
        "id": "XvFuI6xKHr-m"
      },
      "source": [
        ""
      ],
      "execution_count": null,
      "outputs": []
    }
  ]
}