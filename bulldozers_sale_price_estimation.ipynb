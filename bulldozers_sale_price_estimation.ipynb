{
  "nbformat": 4,
  "nbformat_minor": 0,
  "metadata": {
    "colab": {
      "name": "bulldozers-sale-price-estimation.ipynb",
      "provenance": [],
      "collapsed_sections": []
    },
    "kernelspec": {
      "name": "python3",
      "display_name": "Python 3"
    },
    "language_info": {
      "name": "python"
    }
  },
  "cells": [
    {
      "cell_type": "markdown",
      "metadata": {
        "id": "p6L9nQZxcYbB"
      },
      "source": [
        "# **Bulldozer sales price estimation using Machine Learning**\n",
        "This notebook explores some of the basic datascience and machine learning concepts by trying to solve the problem of Bulldozers sales price prediction.  \n",
        "Since the desired outcome here is an estimate of future sales price(predicting a number) this is a **Regression** problem.  \n",
        "\n",
        "**Problem statement:**  \n",
        "> Can the future sales price of a bulldozer be predicted the machine learning techniques and models?  \n",
        "\n",
        "**Data to solve the problem:**  \n",
        "The data is taken from the *Blue Book for Bulldozers Kaggle Competition*.[(link here)](https://www.kaggle.com/c/bluebook-for-bulldozers/data)  \n",
        "The data for this competition is split into three parts:\n",
        "\n",
        "1. Train.csv is the training set, which contains data through the end of 2011.\n",
        "2. Valid.csv is the validation set, which contains data from January 1, 2012 - April 30, 2012.\n",
        "3. Test.csv is the test set. It contains data from May 1, 2012 - November 2012.\n",
        "\n",
        "The key fields are in train.csv are:\n",
        "\n",
        "- SalesID: the uniue identifier of the sale\n",
        "- MachineID: the unique identifier of a machine.  A machine can be sold multiple times\n",
        "- saleprice: what the machine sold for at auction (only provided in train.csv)\n",
        "- saledate: the date of the sale  \n",
        "\n",
        "Other than this there is a [data dictionary](https://drive.google.com/file/d/1qhPAQSFWw3rgpiMy88tMJInP0VGmoSj5/view?usp=sharing) provided with this dataset to understand more about the features of the data.  \n",
        "\n",
        "---\n",
        "\n",
        "## 0. Importing all necessary tools"
      ]
    },
    {
      "cell_type": "code",
      "metadata": {
        "id": "Ze8aRdYs9P1v"
      },
      "source": [
        "# Data analysis and plotting\n",
        "import numpy as np\n",
        "import pandas as pd\n",
        "import matplotlib.pyplot as plt\n",
        "import seaborn as sns\n",
        "\n",
        "# Regression models from Scikit-learn library\n",
        "from sklearn.ensemble import RandomForestRegressor\n",
        "\n",
        "# Model evaluation and experimentation\n",
        "from sklearn.metrics import mean_absolute_error, mean_squared_error, mean_squared_log_error, r2_score\n",
        "from sklearn.model_selection import RandomizedSearchCV, GridSearchCV, cross_val_score\n",
        "\n",
        "# saving the model\n",
        "import joblib"
      ],
      "execution_count": 1,
      "outputs": []
    },
    {
      "cell_type": "markdown",
      "metadata": {
        "id": "1bua-aBEostr"
      },
      "source": [
        "## Data loadind and EDA\n",
        "**Note:**  \n",
        "> Data files are downloaded from [kaggle competition page](https://www.kaggle.com/c/bluebook-for-bulldozers/data) and uploaded to google drive in order to import and use it here in this notebook.  \n",
        "Anyone can view the data folder used here, from this [link.](https://drive.google.com/drive/folders/1GzNp18zvT9JBbEsyjYSQnk_6mUecO6Aq?usp=sharing)  \n",
        "\n",
        "Loading the dataset from the data folder and saving it as Pandas DataFrame. Then perform some exploratory data analysis(EDA) on the saved DataFrame."
      ]
    },
    {
      "cell_type": "code",
      "metadata": {
        "id": "-IQPXjx3oq_A"
      },
      "source": [
        ""
      ],
      "execution_count": null,
      "outputs": []
    }
  ]
}